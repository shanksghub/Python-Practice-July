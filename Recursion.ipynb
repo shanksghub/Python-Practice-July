{
  "nbformat": 4,
  "nbformat_minor": 0,
  "metadata": {
    "colab": {
      "name": "Untitled74.ipynb",
      "provenance": [],
      "authorship_tag": "ABX9TyOezUZXwSE7vkdIg0pcY1Va",
      "include_colab_link": true
    },
    "kernelspec": {
      "name": "python3",
      "display_name": "Python 3"
    },
    "language_info": {
      "name": "python"
    }
  },
  "cells": [
    {
      "cell_type": "markdown",
      "metadata": {
        "id": "view-in-github",
        "colab_type": "text"
      },
      "source": [
        "<a href=\"https://colab.research.google.com/github/shanksghub/Python-Practice-July/blob/main/Recursion.ipynb\" target=\"_parent\"><img src=\"https://colab.research.google.com/assets/colab-badge.svg\" alt=\"Open In Colab\"/></a>"
      ]
    },
    {
      "cell_type": "code",
      "metadata": {
        "id": "9PVjqnEkJ9ci"
      },
      "source": [
        "def fact(n):\n",
        "    if n == 0:\n",
        "        return 1\n",
        "    return n*fact(n-1)"
      ],
      "execution_count": 1,
      "outputs": []
    },
    {
      "cell_type": "code",
      "metadata": {
        "id": "rfJ0cWKAKA0_"
      },
      "source": [
        "def fact(n):\n",
        "    if n == 0:\n",
        "        return 1\n",
        "    smallOutput = fact(n-1)\n",
        "    return n*smallOutput"
      ],
      "execution_count": 2,
      "outputs": []
    },
    {
      "cell_type": "code",
      "metadata": {
        "id": "TySqukZHKDCQ"
      },
      "source": [
        "def fact(n):\n",
        "    if n == 0:\n",
        "        return 1\n",
        "    smallOutput = fact(n-1)\n",
        "    return n*smallOutput"
      ],
      "execution_count": 3,
      "outputs": []
    },
    {
      "cell_type": "code",
      "metadata": {
        "colab": {
          "base_uri": "https://localhost:8080/"
        },
        "id": "AIg619EiKIUF",
        "outputId": "c7f02be7-816d-400e-d0b3-b78beef1a93d"
      },
      "source": [
        " \n",
        "#Sum of 'n' natural numbers:\n",
        "def sum(n):\n",
        "    if n == 1:\n",
        "        return 1\n",
        "    return n + sum(n-1)\n",
        "\n",
        "n = int(input())\n",
        "sum(n)\n",
        "print(sum(n + 10))\n",
        "print(sum(n + 95))"
      ],
      "execution_count": 6,
      "outputs": [
        {
          "output_type": "stream",
          "text": [
            "5\n",
            "120\n",
            "5050\n"
          ],
          "name": "stdout"
        }
      ]
    },
    {
      "cell_type": "code",
      "metadata": {
        "colab": {
          "base_uri": "https://localhost:8080/"
        },
        "id": "Mr7PNxVYKUio",
        "outputId": "9b39ba90-06fa-4990-e829-bc3b591930e2"
      },
      "source": [
        "def sum(n):\n",
        "    if n == 1:\n",
        "        return 1\n",
        "    smallOutput = sum(n-1)\n",
        "    return n + smallOutput\n",
        "\n",
        "n = int(input())\n",
        "print(sum(n))\n",
        "print(fact(n))"
      ],
      "execution_count": 7,
      "outputs": [
        {
          "output_type": "stream",
          "text": [
            "5\n",
            "15\n",
            "120\n"
          ],
          "name": "stdout"
        }
      ]
    },
    {
      "cell_type": "code",
      "metadata": {
        "colab": {
          "base_uri": "https://localhost:8080/"
        },
        "id": "Z3AklczwKf4o",
        "outputId": "ab38dd8f-2035-4443-b887-4d3096c984e5"
      },
      "source": [
        "# Power of a number\n",
        "str = input().split()\n",
        "x, n = int(str[0]), int(str[1])\n",
        "\n",
        "\n",
        "def power(x,n):\n",
        "    if n == 0:\n",
        "    \n",
        "        return 1\n",
        "    power(x,n-1)\n",
        "    print(n)\n",
        "    x = x * x\n",
        "    \n",
        "print(power(x,n))"
      ],
      "execution_count": 15,
      "outputs": [
        {
          "output_type": "stream",
          "text": [
            "2 5\n",
            "1\n",
            "2\n",
            "3\n",
            "4\n",
            "5\n",
            "None\n"
          ],
          "name": "stdout"
        }
      ]
    },
    {
      "cell_type": "code",
      "metadata": {
        "id": "3mG4ZQs5KkUG"
      },
      "source": [
        ""
      ],
      "execution_count": null,
      "outputs": []
    },
    {
      "cell_type": "code",
      "metadata": {
        "colab": {
          "base_uri": "https://localhost:8080/",
          "height": 392
        },
        "id": "uHInB-pqKr2E",
        "outputId": "f0c62d4c-43d1-4381-ea3e-5e2e7b7c8b35"
      },
      "source": [
        "def func(num):\n",
        "    return func(num-1)\n",
        "num = 2\n",
        "ans = func(num-1)\n",
        "print(ans)\n"
      ],
      "execution_count": 19,
      "outputs": [
        {
          "output_type": "error",
          "ename": "RecursionError",
          "evalue": "ignored",
          "traceback": [
            "\u001b[0;31m---------------------------------------------------------------------------\u001b[0m",
            "\u001b[0;31mRecursionError\u001b[0m                            Traceback (most recent call last)",
            "\u001b[0;32m<ipython-input-19-37b0a90bbb42>\u001b[0m in \u001b[0;36m<module>\u001b[0;34m()\u001b[0m\n\u001b[1;32m      2\u001b[0m     \u001b[0;32mreturn\u001b[0m \u001b[0mfunc\u001b[0m\u001b[0;34m(\u001b[0m\u001b[0mnum\u001b[0m\u001b[0;34m-\u001b[0m\u001b[0;36m1\u001b[0m\u001b[0;34m)\u001b[0m\u001b[0;34m\u001b[0m\u001b[0;34m\u001b[0m\u001b[0m\n\u001b[1;32m      3\u001b[0m \u001b[0mnum\u001b[0m \u001b[0;34m=\u001b[0m \u001b[0;36m2\u001b[0m\u001b[0;34m\u001b[0m\u001b[0;34m\u001b[0m\u001b[0m\n\u001b[0;32m----> 4\u001b[0;31m \u001b[0mans\u001b[0m \u001b[0;34m=\u001b[0m \u001b[0mfunc\u001b[0m\u001b[0;34m(\u001b[0m\u001b[0mnum\u001b[0m\u001b[0;34m-\u001b[0m\u001b[0;36m1\u001b[0m\u001b[0;34m)\u001b[0m\u001b[0;34m\u001b[0m\u001b[0;34m\u001b[0m\u001b[0m\n\u001b[0m\u001b[1;32m      5\u001b[0m \u001b[0mprint\u001b[0m\u001b[0;34m(\u001b[0m\u001b[0mans\u001b[0m\u001b[0;34m)\u001b[0m\u001b[0;34m\u001b[0m\u001b[0;34m\u001b[0m\u001b[0m\n",
            "\u001b[0;32m<ipython-input-19-37b0a90bbb42>\u001b[0m in \u001b[0;36mfunc\u001b[0;34m(num)\u001b[0m\n\u001b[1;32m      1\u001b[0m \u001b[0;32mdef\u001b[0m \u001b[0mfunc\u001b[0m\u001b[0;34m(\u001b[0m\u001b[0mnum\u001b[0m\u001b[0;34m)\u001b[0m\u001b[0;34m:\u001b[0m\u001b[0;34m\u001b[0m\u001b[0;34m\u001b[0m\u001b[0m\n\u001b[0;32m----> 2\u001b[0;31m     \u001b[0;32mreturn\u001b[0m \u001b[0mfunc\u001b[0m\u001b[0;34m(\u001b[0m\u001b[0mnum\u001b[0m\u001b[0;34m-\u001b[0m\u001b[0;36m1\u001b[0m\u001b[0;34m)\u001b[0m\u001b[0;34m\u001b[0m\u001b[0;34m\u001b[0m\u001b[0m\n\u001b[0m\u001b[1;32m      3\u001b[0m \u001b[0mnum\u001b[0m \u001b[0;34m=\u001b[0m \u001b[0;36m2\u001b[0m\u001b[0;34m\u001b[0m\u001b[0;34m\u001b[0m\u001b[0m\n\u001b[1;32m      4\u001b[0m \u001b[0mans\u001b[0m \u001b[0;34m=\u001b[0m \u001b[0mfunc\u001b[0m\u001b[0;34m(\u001b[0m\u001b[0mnum\u001b[0m\u001b[0;34m-\u001b[0m\u001b[0;36m1\u001b[0m\u001b[0;34m)\u001b[0m\u001b[0;34m\u001b[0m\u001b[0;34m\u001b[0m\u001b[0m\n\u001b[1;32m      5\u001b[0m \u001b[0mprint\u001b[0m\u001b[0;34m(\u001b[0m\u001b[0mans\u001b[0m\u001b[0;34m)\u001b[0m\u001b[0;34m\u001b[0m\u001b[0;34m\u001b[0m\u001b[0m\n",
            "... last 1 frames repeated, from the frame below ...\n",
            "\u001b[0;32m<ipython-input-19-37b0a90bbb42>\u001b[0m in \u001b[0;36mfunc\u001b[0;34m(num)\u001b[0m\n\u001b[1;32m      1\u001b[0m \u001b[0;32mdef\u001b[0m \u001b[0mfunc\u001b[0m\u001b[0;34m(\u001b[0m\u001b[0mnum\u001b[0m\u001b[0;34m)\u001b[0m\u001b[0;34m:\u001b[0m\u001b[0;34m\u001b[0m\u001b[0;34m\u001b[0m\u001b[0m\n\u001b[0;32m----> 2\u001b[0;31m     \u001b[0;32mreturn\u001b[0m \u001b[0mfunc\u001b[0m\u001b[0;34m(\u001b[0m\u001b[0mnum\u001b[0m\u001b[0;34m-\u001b[0m\u001b[0;36m1\u001b[0m\u001b[0;34m)\u001b[0m\u001b[0;34m\u001b[0m\u001b[0;34m\u001b[0m\u001b[0m\n\u001b[0m\u001b[1;32m      3\u001b[0m \u001b[0mnum\u001b[0m \u001b[0;34m=\u001b[0m \u001b[0;36m2\u001b[0m\u001b[0;34m\u001b[0m\u001b[0;34m\u001b[0m\u001b[0m\n\u001b[1;32m      4\u001b[0m \u001b[0mans\u001b[0m \u001b[0;34m=\u001b[0m \u001b[0mfunc\u001b[0m\u001b[0;34m(\u001b[0m\u001b[0mnum\u001b[0m\u001b[0;34m-\u001b[0m\u001b[0;36m1\u001b[0m\u001b[0;34m)\u001b[0m\u001b[0;34m\u001b[0m\u001b[0;34m\u001b[0m\u001b[0m\n\u001b[1;32m      5\u001b[0m \u001b[0mprint\u001b[0m\u001b[0;34m(\u001b[0m\u001b[0mans\u001b[0m\u001b[0;34m)\u001b[0m\u001b[0;34m\u001b[0m\u001b[0;34m\u001b[0m\u001b[0m\n",
            "\u001b[0;31mRecursionError\u001b[0m: maximum recursion depth exceeded"
          ]
        }
      ]
    },
    {
      "cell_type": "code",
      "metadata": {
        "colab": {
          "base_uri": "https://localhost:8080/"
        },
        "id": "6TAyqQBRJrMc",
        "outputId": "7fa4c18c-3f1b-407c-d6d0-cf43b19cec51"
      },
      "source": [
        "# Results in Recursion Error\n",
        "# Print numbers from 1 to n\n",
        "def print_1_to_n(n):\n",
        "    if n == 0:\n",
        "        return n\n",
        "    print_1_to_n(n-1)\n",
        "    print(n)\n",
        "\n",
        "n = int(input())\n",
        "print_1_to_n(n)\n"
      ],
      "execution_count": 21,
      "outputs": [
        {
          "output_type": "stream",
          "text": [
            "55\n",
            "1\n",
            "2\n",
            "3\n",
            "4\n",
            "5\n",
            "6\n",
            "7\n",
            "8\n",
            "9\n",
            "10\n",
            "11\n",
            "12\n",
            "13\n",
            "14\n",
            "15\n",
            "16\n",
            "17\n",
            "18\n",
            "19\n",
            "20\n",
            "21\n",
            "22\n",
            "23\n",
            "24\n",
            "25\n",
            "26\n",
            "27\n",
            "28\n",
            "29\n",
            "30\n",
            "31\n",
            "32\n",
            "33\n",
            "34\n",
            "35\n",
            "36\n",
            "37\n",
            "38\n",
            "39\n",
            "40\n",
            "41\n",
            "42\n",
            "43\n",
            "44\n",
            "45\n",
            "46\n",
            "47\n",
            "48\n",
            "49\n",
            "50\n",
            "51\n",
            "52\n",
            "53\n",
            "54\n",
            "55\n"
          ],
          "name": "stdout"
        }
      ]
    },
    {
      "cell_type": "code",
      "metadata": {
        "colab": {
          "base_uri": "https://localhost:8080/"
        },
        "id": "vpaK483fOxE2",
        "outputId": "51202062-3a1d-4656-eed7-4c96b3a5c617"
      },
      "source": [
        "# Results in Recursion Error\n",
        "# Print numbers from 1 to n\n",
        "def print_1_to_n(n):\n",
        "    if n == 2:\n",
        "        return n\n",
        "    print_1_to_n(n-1)\n",
        "    print(n)\n",
        "\n",
        "n = int(input())\n",
        "print_1_to_n(n)\n"
      ],
      "execution_count": 26,
      "outputs": [
        {
          "output_type": "stream",
          "text": [
            "7\n",
            "3\n",
            "4\n",
            "5\n",
            "6\n",
            "7\n"
          ],
          "name": "stdout"
        }
      ]
    },
    {
      "cell_type": "code",
      "metadata": {
        "id": "S9ZLhcI1OtmF"
      },
      "source": [
        "\n"
      ],
      "execution_count": null,
      "outputs": []
    },
    {
      "cell_type": "code",
      "metadata": {
        "colab": {
          "base_uri": "https://localhost:8080/"
        },
        "id": "ndIgWQbpKbd9",
        "outputId": "a67ca6f5-53b2-4632-86ef-07cca0718638"
      },
      "source": [
        "def print_n_to_1(n):\n",
        "    if n == 0:\n",
        "        return n\n",
        "    print(n)\n",
        "    \n",
        "    print_n_to_1(n-1)\n",
        "    print(n)\n",
        "n = int(input())\n",
        "print_n_to_1(n)"
      ],
      "execution_count": 30,
      "outputs": [
        {
          "output_type": "stream",
          "text": [
            "8\n",
            "8\n",
            "7\n",
            "6\n",
            "5\n",
            "4\n",
            "3\n",
            "2\n",
            "1\n",
            "1\n",
            "2\n",
            "3\n",
            "4\n",
            "5\n",
            "6\n",
            "7\n",
            "8\n"
          ],
          "name": "stdout"
        }
      ]
    },
    {
      "cell_type": "code",
      "metadata": {
        "colab": {
          "base_uri": "https://localhost:8080/"
        },
        "id": "hpEG89cGRFzX",
        "outputId": "3888fe7f-015d-46b6-8a79-36ae00006b3f"
      },
      "source": [
        "def printNumber(n):\n",
        "    if(n<0):\n",
        "      return\n",
        "    print(n,end=\" \")\n",
        "    printNumbers(n-3)  \n",
        "\n",
        "num = 5\n",
        "printNumber(num)\n"
      ],
      "execution_count": 32,
      "outputs": [
        {
          "output_type": "stream",
          "text": [
            "5 2 0 "
          ],
          "name": "stdout"
        }
      ]
    },
    {
      "cell_type": "code",
      "metadata": {
        "colab": {
          "base_uri": "https://localhost:8080/"
        },
        "id": "4Z34-tlPR4Wd",
        "outputId": "94c99354-91f0-460f-8e0c-9cbbab6e573a"
      },
      "source": [
        "def printNumbers(n):\n",
        "    if(n<0):\n",
        "        return\n",
        "    print(n,end=\" \")\n",
        "    printNumbers(n-8)\n",
        "num = 56\n",
        "printNumbers(num)"
      ],
      "execution_count": 36,
      "outputs": [
        {
          "output_type": "stream",
          "text": [
            "56 48 40 32 24 16 8 0 "
          ],
          "name": "stdout"
        }
      ]
    },
    {
      "cell_type": "code",
      "metadata": {
        "colab": {
          "base_uri": "https://localhost:8080/"
        },
        "id": "_DalIoFWJpJB",
        "outputId": "8959f8e0-6b9f-42e9-f9e9-54a862359c1b"
      },
      "source": [
        "# Predict the Output:\n",
        "def printNumbers(n):\n",
        "    if(n<0):\n",
        "        return\n",
        "    print(n,end=\"h\")\n",
        "    printNumbers(n-2)\n",
        "num = 59\n",
        "printNumbers(num)"
      ],
      "execution_count": 39,
      "outputs": [
        {
          "output_type": "stream",
          "text": [
            "59h57h55h53h51h49h47h45h43h41h39h37h35h33h31h29h27h25h23h21h19h17h15h13h11h9h7h5h3h1h"
          ],
          "name": "stdout"
        }
      ]
    }
  ]
}