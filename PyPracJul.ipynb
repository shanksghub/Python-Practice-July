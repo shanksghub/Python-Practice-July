{
  "nbformat": 4,
  "nbformat_minor": 0,
  "metadata": {
    "colab": {
      "name": "Untitled71.ipynb",
      "provenance": [],
      "authorship_tag": "ABX9TyNLrrJgiEo/6jgW6QyChW7n",
      "include_colab_link": true
    },
    "kernelspec": {
      "name": "python3",
      "display_name": "Python 3"
    },
    "language_info": {
      "name": "python"
    }
  },
  "cells": [
    {
      "cell_type": "markdown",
      "metadata": {
        "id": "view-in-github",
        "colab_type": "text"
      },
      "source": [
        "<a href=\"https://colab.research.google.com/github/shanksghub/Python-Practice-July/blob/main/PyPracJul.ipynb\" target=\"_parent\"><img src=\"https://colab.research.google.com/assets/colab-badge.svg\" alt=\"Open In Colab\"/></a>"
      ]
    },
    {
      "cell_type": "code",
      "metadata": {
        "id": "-nWkap1X68K0"
      },
      "source": [
        "\n",
        "#!/usr/bin/env python\n",
        "# -*- coding: utf-8 -*-\n",
        "\n",
        "'''\n",
        "Exercise\n",
        "Create a program that asks the user to enter their name and their age. \n",
        "Print out a message addressed to them that tells them the year that they will turn 100 years old.\n",
        "'''\n",
        "\n",
        "\n",
        "import datetime\n",
        "\n",
        "while True:\n",
        "    name = input(\"Name：\")\n",
        "    age = int(input(\"age：\"))\n",
        "\n",
        "    now = datetime.datetime.now()\n",
        "\n",
        "    this_year = now.year\n",
        "\n",
        "    print(name + \"The year they turn 100  \" + str(this_year - age + 100) + \" shown before\")\n",
        "    print()\n",
        "    in_program = input(\"is this age in 100 years：\")\n",
        "\n",
        "    if in_program == '0':\n",
        "        break"
      ],
      "execution_count": null,
      "outputs": []
    },
    {
      "cell_type": "code",
      "metadata": {
        "id": "sLS-4W4v69tK"
      },
      "source": [
        "\n",
        "#!/usr/bin/env python\n",
        "# -*- coding: utf-8 -*-\n",
        "\n",
        "'''\n",
        "Exercise\n",
        "Create a program that asks the user to enter their name and their age. \n",
        "Print out a message addressed to them that tells them the year that they will turn 100 years old.\n",
        "'''\n",
        "\n",
        "\n",
        "import datetime\n",
        "\n",
        "while True:\n",
        "    name = input(\"Name：\")\n",
        "    age = int(input(\"age：\"))\n",
        "\n",
        "    now = datetime.datetime.now()\n",
        "\n",
        "    this_year = now.year\n",
        "\n",
        "    print(name + \"The year they turn 100  \" + str(this_year - age + 100) + \" shown before\")\n",
        "    print()\n",
        "    in_program = input(\"is this age in 100 years：\")\n",
        "\n",
        "    if in_program == '0':\n",
        "        break"
      ],
      "execution_count": null,
      "outputs": []
    },
    {
      "cell_type": "code",
      "metadata": {
        "id": "E1C7ORQc69x4"
      },
      "source": [
        "\n",
        "# 3.2 - Screw Things Up\n",
        "# Solutions to review exercies\n",
        "\n",
        "\n",
        "# Exercise 1\n",
        "# The following line won't run because of a syntax error\n",
        "print(\"hi)\n",
        "\n",
        "# We didn't close the double quotes at the end of the string.\n",
        "# The line above needed to have been:\n",
        "# print(\"hi\")\n",
        "\n",
        "\n",
        "# Exercise 2\n",
        "''' The following lines won't run properly,\n",
        "    even if the syntax error in the line above is corrected,\n",
        "    because of a run-time error '''\n",
        "print(hello)\n",
        "\n",
        "# We meant to print the string \"hello\";\n",
        "# a variable named 'hello' doesn't exist yet.\n",
        "#\n",
        "# This line could have been:\n",
        "#\n",
        "# my_string = \"hello\"\n",
        "# print(my_string)"
      ],
      "execution_count": null,
      "outputs": []
    },
    {
      "cell_type": "code",
      "metadata": {
        "id": "OWItBBT77DL0"
      },
      "source": [
        "print(hi)\n",
        "print(\"hi\")\n"
      ],
      "execution_count": null,
      "outputs": []
    },
    {
      "cell_type": "code",
      "metadata": {
        "id": "zRLkhgWd691o"
      },
      "source": [
        "# 3.3 - Create a Variable\n",
        "# Solutions to review exercies\n",
        "\n",
        "\n",
        "# Exercise 3 (exercises 1 and 2 are done in interactive window)\n",
        "# This solution works for Exercises 1 and 2 by typing the same lines into the\n",
        "# interactive window.\n",
        "\n",
        "# Display a string directly\n",
        "print(\"hello\")\n",
        "\n",
        "\n",
        "# Display the contents of a string variable\n",
        "my_string = \"hi\"\n",
        "print(my_string)"
      ],
      "execution_count": null,
      "outputs": []
    },
    {
      "cell_type": "code",
      "metadata": {
        "id": "CbGWoR1F695Q"
      },
      "source": [
        "print(\"hello\")"
      ],
      "execution_count": null,
      "outputs": []
    },
    {
      "cell_type": "code",
      "metadata": {
        "id": "62KhPvQK7Gf3"
      },
      "source": [
        "# Display the contents of a string variable\n",
        "my_string = \"hi\"\n",
        "print(my_string)\n",
        "\n",
        "my_name = \"Shashank\"\n",
        "print(my_name)"
      ],
      "execution_count": null,
      "outputs": []
    },
    {
      "cell_type": "code",
      "metadata": {
        "id": "6I9KZEjP7Gju"
      },
      "source": [
        "\n",
        "# 4.1 - What is a String?\n",
        "# Solutions to review exercies\n",
        "\n",
        "\n",
        "# Exercise 1\n",
        "print(\"'There are 'double quotes' in this string.'\")\n",
        "\n",
        "\n",
        "# Exercise 2\n",
        "print(\"This string's got an apostrophe.\")\n",
        "\n",
        "\n",
        "# Exercise 3\n",
        "print(\n",
        "    \"\"\"This string was written on multiple lines,\n",
        "      and it displays across multiple lines\"\"\"\n",
        ")\n",
        "\n",
        "\n",
        "# Exercise 4\n",
        "print(\n",
        "    \"This one-line string was written out \\\n",
        "      using multiple lines\"\n",
        ")"
      ],
      "execution_count": null,
      "outputs": []
    },
    {
      "cell_type": "code",
      "metadata": {
        "id": "QhbDW6IA7LGt"
      },
      "source": [
        ""
      ],
      "execution_count": null,
      "outputs": []
    },
    {
      "cell_type": "code",
      "metadata": {
        "id": "Sjvi_9HV7LKF"
      },
      "source": [
        ""
      ],
      "execution_count": null,
      "outputs": []
    },
    {
      "cell_type": "code",
      "metadata": {
        "id": "qla85Fq47LNu"
      },
      "source": [
        "\n",
        "\n",
        "# Exercise 1\n",
        "string1 = \"ANIMALS\"\n",
        "string2 = \"badger\"\n",
        "string3 = \"Honey Bee\"\n",
        "string4 = \"Honeybadger\"\n",
        "\n",
        "print(string1.upper())\n",
        "print(string2.upper())\n",
        "print(string3.lower())\n",
        "print(string4.lower())\n",
        "\n"
      ],
      "execution_count": null,
      "outputs": []
    },
    {
      "cell_type": "code",
      "metadata": {
        "id": "Bei5uIaZ7Gna"
      },
      "source": [
        "# Exercise 2\n",
        "print(string1.upper())\n",
        "print(string2.upper())\n",
        "print(string3.upper())\n",
        "print(string4.upper())"
      ],
      "execution_count": null,
      "outputs": []
    },
    {
      "cell_type": "code",
      "metadata": {
        "id": "rRMWG8Az7OOl"
      },
      "source": [
        "# Exercise 3\n",
        "string1 = \"    Filet Mignon\"\n",
        "string2 = \"Brisket    \"\n",
        "string3 = \"  Cheeseburger   \"\n",
        "\n",
        "print(string1.strip())  # Could also use .lstrip()\n",
        "print(string1.strip())  # Could also use .rstrip()\n",
        "print(string3.strip())\n",
        "\n",
        "\n",
        "# Exercise 4\n",
        "string1 = \"Becomes\"\n",
        "string2 = \"becomes\"\n",
        "string3 = \"BEAR\"\n",
        "string4 = \"  bEautiful\"\n",
        "\n",
        "print(string1.startswith(\"be\"))\n",
        "print(string2.startswith(\"be\"))\n",
        "print(string3.startswith(\"be\"))\n",
        "print(string4.startswith(\"be\"))\n",
        "\n",
        "\n",
        "# Exercise 5\n",
        "string1 = string1.lower()\n",
        "# (string2 will pass unmodified)\n",
        "string3 = string3.lower()\n",
        "string4 = string4.strip().lower()\n",
        "\n",
        "print(string1.startswith(\"be\"))\n",
        "print(string2.startswith(\"be\"))\n",
        "print(string3.startswith(\"be\"))\n",
        "print(string4.startswith(\"be\"))"
      ],
      "execution_count": null,
      "outputs": []
    },
    {
      "cell_type": "code",
      "metadata": {
        "id": "xyqeFuZp7PS6"
      },
      "source": [
        "\n",
        "# 4.2 - Concatenation, Indexing, and Slicing\n",
        "# Solutions to review exercies\n",
        "\n",
        "\n",
        "# Exercise 1\n",
        "# Display the number of letters in the string\n",
        "my_word = \"antidisestablishmentarianism\"\n",
        "print(len(my_word))\n",
        "\n",
        "\n",
        "# Exercise 2\n",
        "# Concatenate two strings together\n",
        "string_left = \"bat\"\n",
        "string_right = \"man\"\n",
        "print(string_left + string_right)\n",
        "\n",
        "\n",
        "# Exercise 3\n",
        "# Display two strings together, with a space in between\n",
        "string_one = \"heebie\"\n",
        "string_two = \"jeebies\"\n",
        "print(string_one + \" \" + string_two)\n",
        "\n",
        "\n",
        "# Exercise 4\n",
        "# Use subscripting to display part of a string\n",
        "print(\"bazinga\"[2:6])"
      ],
      "execution_count": null,
      "outputs": []
    },
    {
      "cell_type": "code",
      "metadata": {
        "id": "FSSjXZPM7Qeu"
      },
      "source": [
        "l=[]\n",
        "for i in range(2000, 3201):\n",
        "    if (i%7==0) and (i%5!=0):\n",
        "        l.append(str(i))\n",
        "\n",
        "print ','.join(l)\n",
        " "
      ],
      "execution_count": null,
      "outputs": []
    }
  ]
}