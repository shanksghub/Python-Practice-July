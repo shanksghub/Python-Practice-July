{
  "nbformat": 4,
  "nbformat_minor": 0,
  "metadata": {
    "colab": {
      "name": "Welcome_to_Colaboratory.ipynb",
      "provenance": [],
      "collapsed_sections": [],
      "toc_visible": true,
      "include_colab_link": true
    },
    "kernelspec": {
      "display_name": "Python 3",
      "name": "python3"
    }
  },
  "cells": [
    {
      "cell_type": "markdown",
      "metadata": {
        "id": "view-in-github",
        "colab_type": "text"
      },
      "source": [
        "<a href=\"https://colab.research.google.com/github/shanksghub/Python-Practice-July/blob/main/JOEL%20GRUS.ipynb\" target=\"_parent\"><img src=\"https://colab.research.google.com/assets/colab-badge.svg\" alt=\"Open In Colab\"/></a>"
      ]
    },
    {
      "cell_type": "code",
      "metadata": {
        "id": "a5vDNnEO4Ed5",
        "colab": {
          "base_uri": "https://localhost:8080/",
          "height": 197
        },
        "outputId": "7ffd6446-1dcb-4650-d1f1-6d184e691f86"
      },
      "source": [
        "x = range(10)\n",
        "zero = x[0]\n",
        "one = x[1]\n",
        "nine = x[-1]\n",
        "eight = x[-2]\n",
        "x[0] = -1"
      ],
      "execution_count": null,
      "outputs": [
        {
          "output_type": "error",
          "ename": "TypeError",
          "evalue": "ignored",
          "traceback": [
            "\u001b[0;31m---------------------------------------------------------------------------\u001b[0m",
            "\u001b[0;31mTypeError\u001b[0m                                 Traceback (most recent call last)",
            "\u001b[0;32m<ipython-input-1-2ffc96acd8a6>\u001b[0m in \u001b[0;36m<module>\u001b[0;34m()\u001b[0m\n\u001b[1;32m      4\u001b[0m \u001b[0mnine\u001b[0m \u001b[0;34m=\u001b[0m \u001b[0mx\u001b[0m\u001b[0;34m[\u001b[0m\u001b[0;34m-\u001b[0m\u001b[0;36m1\u001b[0m\u001b[0;34m]\u001b[0m\u001b[0;34m\u001b[0m\u001b[0;34m\u001b[0m\u001b[0m\n\u001b[1;32m      5\u001b[0m \u001b[0meight\u001b[0m \u001b[0;34m=\u001b[0m \u001b[0mx\u001b[0m\u001b[0;34m[\u001b[0m\u001b[0;34m-\u001b[0m\u001b[0;36m2\u001b[0m\u001b[0;34m]\u001b[0m\u001b[0;34m\u001b[0m\u001b[0;34m\u001b[0m\u001b[0m\n\u001b[0;32m----> 6\u001b[0;31m \u001b[0mx\u001b[0m\u001b[0;34m[\u001b[0m\u001b[0;36m0\u001b[0m\u001b[0;34m]\u001b[0m \u001b[0;34m=\u001b[0m \u001b[0;34m-\u001b[0m\u001b[0;36m1\u001b[0m\u001b[0;34m\u001b[0m\u001b[0;34m\u001b[0m\u001b[0m\n\u001b[0m",
            "\u001b[0;31mTypeError\u001b[0m: 'range' object does not support item assignment"
          ]
        }
      ]
    },
    {
      "cell_type": "code",
      "metadata": {
        "id": "_VUT0yFj4VzE"
      },
      "source": [
        " \n",
        "integer_list = [1, 2, 3]\n",
        "heterogeneous_list = [\"string\", 0.1, True]\n",
        "list_of_lists = [ integer_list, heterogeneous_list, [] ]\n",
        "list_length = len(integer_list)\n",
        "list_sum = sum(integer_list)\n",
        "# equals 3\n",
        "# equals 6"
      ],
      "execution_count": null,
      "outputs": []
    },
    {
      "cell_type": "code",
      "metadata": {
        "id": "I9xXCYav4YQo"
      },
      "source": [
        "x = range(10)\n",
        "zero = x[0]\n",
        "one = x[1]\n",
        "nine = x[-1]\n",
        "eight = x[-2]\n",
        "eight = x[0:8]\n",
        "\n"
      ],
      "execution_count": null,
      "outputs": []
    },
    {
      "cell_type": "code",
      "metadata": {
        "id": "PQ45bcR14uNa"
      },
      "source": [
        "first_three = x[:3]\n",
        "three_to_end = x[3:]\n",
        "one_to_four = x[1:5]\n",
        "last_three = x[-3:]\n",
        "without_first_and_last = x[1:-1]\n",
        "copy_of_x = x[:]"
      ],
      "execution_count": null,
      "outputs": []
    },
    {
      "cell_type": "code",
      "metadata": {
        "id": "LiqJCHdS4Kpi"
      },
      "source": [
        "\n",
        "x = [1, 2, 3]\n",
        "x.extend([4, 5, 6])\n",
        "# x is now [1,2,3,4,5,6]\n"
      ],
      "execution_count": null,
      "outputs": []
    },
    {
      "cell_type": "code",
      "metadata": {
        "id": "dm8hRxP_6ucS",
        "colab": {
          "base_uri": "https://localhost:8080/"
        },
        "outputId": "07385212-b0ed-4a51-d831-64388fbcccb7"
      },
      "source": [
        "x"
      ],
      "execution_count": null,
      "outputs": [
        {
          "output_type": "execute_result",
          "data": {
            "text/plain": [
              "[1, 2, 3, 4, 5, 6]"
            ]
          },
          "metadata": {
            "tags": []
          },
          "execution_count": 10
        }
      ]
    },
    {
      "cell_type": "code",
      "metadata": {
        "id": "hkrL1c-N6yha"
      },
      "source": [
        "x = [1, 2, 3]\n",
        "y = x + [4, 5, 6]\n",
        "# y is [1, 2, 3, 4, 5, 6]; x is unchanged\n",
        "x = [1, 2, 3]\n",
        "x.append(0)\n",
        "y = x[-1]\n",
        "z = len(x)\n",
        "# x is now [1, 2, 3, 0]\n",
        "# equals 0\n",
        "# equals 4It is often convenient to unpack lists if you know how many elements they contain:\n",
        "x, y = [1, 2]\n",
        "# now x is 1, y is 2"
      ],
      "execution_count": null,
      "outputs": []
    },
    {
      "cell_type": "code",
      "metadata": {
        "id": "X1gzU1gg64j4"
      },
      "source": [
        "y\n",
        "x = [1, 2, 3]\n",
        "x.append(0)\n",
        "y = x[-1]"
      ],
      "execution_count": null,
      "outputs": []
    },
    {
      "cell_type": "code",
      "metadata": {
        "id": "DjkwjQzf68E4",
        "colab": {
          "base_uri": "https://localhost:8080/"
        },
        "outputId": "6e231e15-331a-4f38-acb2-351399c5c1d4"
      },
      "source": [
        "y\n",
        "x"
      ],
      "execution_count": null,
      "outputs": [
        {
          "output_type": "execute_result",
          "data": {
            "text/plain": [
              "[1, 2, 3, 0]"
            ]
          },
          "metadata": {
            "tags": []
          },
          "execution_count": 15
        }
      ]
    },
    {
      "cell_type": "code",
      "metadata": {
        "id": "BZ8Izt-A9KvV"
      },
      "source": [
        "_, y = [1, 2]\n"
      ],
      "execution_count": null,
      "outputs": []
    },
    {
      "cell_type": "code",
      "metadata": {
        "id": "_2a5KIwm9Zi_"
      },
      "source": [
        "my_list = [1, 2]\n",
        "my_tuple = (1, 2)\n",
        "other_tuple = 3, 4\n",
        "my_list[1] = 3\n",
        "# my_list is now [1, 3]\n"
      ],
      "execution_count": null,
      "outputs": []
    },
    {
      "cell_type": "code",
      "metadata": {
        "id": "lC8ElN7y9eDP"
      },
      "source": [
        "def sum_and_product(x, y):\n",
        "    return (x + y),(x * y)\n",
        "sp = sum_and_product(2, 3)\n",
        "# equals (5, 6)\n",
        "s, p = sum_and_product(5, 10) # s is 15, p is 50\n",
        " "
      ],
      "execution_count": null,
      "outputs": []
    },
    {
      "cell_type": "code",
      "metadata": {
        "id": "YYH-NRKj9pvv",
        "colab": {
          "base_uri": "https://localhost:8080/"
        },
        "outputId": "bf3a11ef-094c-45d4-b6b6-fb1e53d1371e"
      },
      "source": [
        "sp"
      ],
      "execution_count": null,
      "outputs": [
        {
          "output_type": "execute_result",
          "data": {
            "text/plain": [
              "(5, 6)"
            ]
          },
          "metadata": {
            "tags": []
          },
          "execution_count": 19
        }
      ]
    },
    {
      "cell_type": "code",
      "metadata": {
        "id": "OwSifpP59rU7",
        "colab": {
          "base_uri": "https://localhost:8080/"
        },
        "outputId": "3a9ff6b7-b2b5-4214-9967-e6e878248fda"
      },
      "source": [
        "s, p"
      ],
      "execution_count": null,
      "outputs": [
        {
          "output_type": "execute_result",
          "data": {
            "text/plain": [
              "(15, 50)"
            ]
          },
          "metadata": {
            "tags": []
          },
          "execution_count": 20
        }
      ]
    },
    {
      "cell_type": "code",
      "metadata": {
        "id": "kG2yeIDC9hQw"
      },
      "source": [
        "x, y = 1, 2\n"
      ],
      "execution_count": null,
      "outputs": []
    },
    {
      "cell_type": "code",
      "metadata": {
        "id": "A7ZDRa5d92Nl",
        "colab": {
          "base_uri": "https://localhost:8080/"
        },
        "outputId": "796ec0ba-b1e5-40d4-d6bd-f1fbaa47007f"
      },
      "source": [
        "x\n"
      ],
      "execution_count": null,
      "outputs": [
        {
          "output_type": "execute_result",
          "data": {
            "text/plain": [
              "1"
            ]
          },
          "metadata": {
            "tags": []
          },
          "execution_count": 25
        }
      ]
    },
    {
      "cell_type": "code",
      "metadata": {
        "id": "vrFlR9v49eJm",
        "colab": {
          "base_uri": "https://localhost:8080/"
        },
        "outputId": "f3958ccd-4242-404b-8802-a9ca3a2a1481"
      },
      "source": [
        "y"
      ],
      "execution_count": null,
      "outputs": [
        {
          "output_type": "execute_result",
          "data": {
            "text/plain": [
              "2"
            ]
          },
          "metadata": {
            "tags": []
          },
          "execution_count": 24
        }
      ]
    },
    {
      "cell_type": "code",
      "metadata": {
        "id": "HYUBe1q796b9"
      },
      "source": [
        "x, y = y, x"
      ],
      "execution_count": null,
      "outputs": []
    },
    {
      "cell_type": "code",
      "metadata": {
        "id": "ZmIJzgrn97i7",
        "colab": {
          "base_uri": "https://localhost:8080/"
        },
        "outputId": "9d9cc417-c219-453f-d986-0aa7d8c6c16a"
      },
      "source": [
        "x"
      ],
      "execution_count": null,
      "outputs": [
        {
          "output_type": "execute_result",
          "data": {
            "text/plain": [
              "2"
            ]
          },
          "metadata": {
            "tags": []
          },
          "execution_count": 27
        }
      ]
    },
    {
      "cell_type": "code",
      "metadata": {
        "id": "1BywEA2Q98PW",
        "colab": {
          "base_uri": "https://localhost:8080/"
        },
        "outputId": "c3662d8c-81e7-428e-fac8-da648142bfd0"
      },
      "source": [
        "y"
      ],
      "execution_count": null,
      "outputs": [
        {
          "output_type": "execute_result",
          "data": {
            "text/plain": [
              "1"
            ]
          },
          "metadata": {
            "tags": []
          },
          "execution_count": 28
        }
      ]
    },
    {
      "cell_type": "code",
      "metadata": {
        "id": "itION6Ib-VxD"
      },
      "source": [
        "\n",
        "my_list = [1, 2]\n",
        "my_tuple = (1, 2)\n",
        "other_tuple = 3, 4\n",
        "my_list[0] = 3"
      ],
      "execution_count": null,
      "outputs": []
    },
    {
      "cell_type": "code",
      "metadata": {
        "id": "sySLkVbA-eY2",
        "colab": {
          "base_uri": "https://localhost:8080/"
        },
        "outputId": "48eaec96-f81d-46bc-f1be-e4719f0c4869"
      },
      "source": [
        "other_tuple"
      ],
      "execution_count": null,
      "outputs": [
        {
          "output_type": "execute_result",
          "data": {
            "text/plain": [
              "(3, 4)"
            ]
          },
          "metadata": {
            "tags": []
          },
          "execution_count": 33
        }
      ]
    },
    {
      "cell_type": "code",
      "metadata": {
        "id": "b34hZ4rp-frM",
        "colab": {
          "base_uri": "https://localhost:8080/"
        },
        "outputId": "b2ce73e9-94b7-4daa-b94c-4352c037c053"
      },
      "source": [
        "my_tuple"
      ],
      "execution_count": null,
      "outputs": [
        {
          "output_type": "execute_result",
          "data": {
            "text/plain": [
              "(1, 2)"
            ]
          },
          "metadata": {
            "tags": []
          },
          "execution_count": 34
        }
      ]
    },
    {
      "cell_type": "code",
      "metadata": {
        "id": "goJZGaqY-YJt",
        "colab": {
          "base_uri": "https://localhost:8080/"
        },
        "outputId": "a53ca017-b374-4860-c5bc-a473afdb3166"
      },
      "source": [
        "my_list"
      ],
      "execution_count": null,
      "outputs": [
        {
          "output_type": "execute_result",
          "data": {
            "text/plain": [
              "[3, 2]"
            ]
          },
          "metadata": {
            "tags": []
          },
          "execution_count": 32
        }
      ]
    },
    {
      "cell_type": "code",
      "metadata": {
        "id": "FZDkmY3ZDiNL"
      },
      "source": [
        "empty_dict = {}\n",
        "empty_dict2 = dict()\n",
        "grades = { \"Joel\" : 80, \"Tim\" : 95 }\n",
        "# Pythonic\n",
        "# less Pythonic\n",
        "# dictionary literal"
      ],
      "execution_count": null,
      "outputs": []
    },
    {
      "cell_type": "code",
      "metadata": {
        "id": "WdgsYASTDm12",
        "colab": {
          "base_uri": "https://localhost:8080/",
          "height": 163
        },
        "outputId": "5a0318d1-d65b-4786-ee61-79c153753b60"
      },
      "source": [
        "joels_grade = grades[\"J9oel\"]\n"
      ],
      "execution_count": null,
      "outputs": [
        {
          "output_type": "error",
          "ename": "KeyError",
          "evalue": "ignored",
          "traceback": [
            "\u001b[0;31m---------------------------------------------------------------------------\u001b[0m",
            "\u001b[0;31mKeyError\u001b[0m                                  Traceback (most recent call last)",
            "\u001b[0;32m<ipython-input-38-07e70e684c29>\u001b[0m in \u001b[0;36m<module>\u001b[0;34m()\u001b[0m\n\u001b[0;32m----> 1\u001b[0;31m \u001b[0mjoels_grade\u001b[0m \u001b[0;34m=\u001b[0m \u001b[0mgrades\u001b[0m\u001b[0;34m[\u001b[0m\u001b[0;34m\"J9oel\"\u001b[0m\u001b[0;34m]\u001b[0m\u001b[0;34m\u001b[0m\u001b[0;34m\u001b[0m\u001b[0m\n\u001b[0m",
            "\u001b[0;31mKeyError\u001b[0m: 'J9oel'"
          ]
        }
      ]
    },
    {
      "cell_type": "code",
      "metadata": {
        "id": "RY2uZ2xUDpHh",
        "colab": {
          "base_uri": "https://localhost:8080/"
        },
        "outputId": "ec8a0293-21e5-42aa-c1b4-21ab8e9107f6"
      },
      "source": [
        "joels_grade"
      ],
      "execution_count": null,
      "outputs": [
        {
          "output_type": "execute_result",
          "data": {
            "text/plain": [
              "80"
            ]
          },
          "metadata": {
            "tags": []
          },
          "execution_count": 37
        }
      ]
    },
    {
      "cell_type": "code",
      "metadata": {
        "id": "APCkxSFcDxHq",
        "colab": {
          "base_uri": "https://localhost:8080/"
        },
        "outputId": "e99a4fe3-f219-4ed7-cbf5-ff607a21c1bd"
      },
      "source": [
        "try:\n",
        "    kates_grade = grades[\"Kate\"]\n",
        "except KeyError:\n",
        "    print(\"no grade for Kate!\")"
      ],
      "execution_count": null,
      "outputs": [
        {
          "output_type": "stream",
          "text": [
            "no grade for Kate!\n"
          ],
          "name": "stdout"
        }
      ]
    },
    {
      "cell_type": "code",
      "metadata": {
        "id": "JMhFBb5MGN1p"
      },
      "source": [
        "joel_has_grade = \"Joel\" in grades\n",
        "kate_has_grade = \"Kate\" in grades"
      ],
      "execution_count": null,
      "outputs": []
    },
    {
      "cell_type": "code",
      "metadata": {
        "id": "2l3cWjMEGSb7",
        "colab": {
          "base_uri": "https://localhost:8080/"
        },
        "outputId": "69404f82-da88-4cd5-92ce-045f985e8319"
      },
      "source": [
        "joel_has_grade"
      ],
      "execution_count": null,
      "outputs": [
        {
          "output_type": "execute_result",
          "data": {
            "text/plain": [
              "True"
            ]
          },
          "metadata": {
            "tags": []
          },
          "execution_count": 42
        }
      ]
    },
    {
      "cell_type": "code",
      "metadata": {
        "id": "4g47xa4TGQZm",
        "colab": {
          "base_uri": "https://localhost:8080/"
        },
        "outputId": "cd0210c4-b3e2-42ce-f53e-ee222d56e182"
      },
      "source": [
        "kate_has_grade"
      ],
      "execution_count": null,
      "outputs": [
        {
          "output_type": "execute_result",
          "data": {
            "text/plain": [
              "False"
            ]
          },
          "metadata": {
            "tags": []
          },
          "execution_count": 41
        }
      ]
    },
    {
      "cell_type": "code",
      "metadata": {
        "id": "9czfc6OvHlKY"
      },
      "source": [
        "\n",
        "joels_grade = grades.get(\"Joel\", 0)\n",
        "kates_grade = grades.get(\"Kate\", 0)\n",
        "no_ones_grade = grades.get(\"No One\")"
      ],
      "execution_count": null,
      "outputs": []
    },
    {
      "cell_type": "code",
      "metadata": {
        "id": "mbHfnEPnISH_"
      },
      "source": [
        "no_ones_grade"
      ],
      "execution_count": null,
      "outputs": []
    },
    {
      "cell_type": "code",
      "metadata": {
        "id": "9r8iOTYuITkx",
        "colab": {
          "base_uri": "https://localhost:8080/"
        },
        "outputId": "521bacb5-e22b-4312-834a-4e9a16806607"
      },
      "source": [
        "kates_grade"
      ],
      "execution_count": null,
      "outputs": [
        {
          "output_type": "execute_result",
          "data": {
            "text/plain": [
              "0"
            ]
          },
          "metadata": {
            "tags": []
          },
          "execution_count": 45
        }
      ]
    },
    {
      "cell_type": "code",
      "metadata": {
        "id": "T8Zfj02bIUlh",
        "colab": {
          "base_uri": "https://localhost:8080/"
        },
        "outputId": "893100c8-f22f-4155-e5a8-04a07ce7ec5c"
      },
      "source": [
        "joels_grade"
      ],
      "execution_count": null,
      "outputs": [
        {
          "output_type": "execute_result",
          "data": {
            "text/plain": [
              "80"
            ]
          },
          "metadata": {
            "tags": []
          },
          "execution_count": 46
        }
      ]
    },
    {
      "cell_type": "code",
      "metadata": {
        "id": "qg8o7drcIwh8"
      },
      "source": [
        "grades[\"Tim\"] = 99\n",
        "grades[\"Kate\"] = 100\n",
        "num_students = len(grades)"
      ],
      "execution_count": null,
      "outputs": []
    },
    {
      "cell_type": "code",
      "metadata": {
        "id": "ek0PdNi4I1-R",
        "colab": {
          "base_uri": "https://localhost:8080/"
        },
        "outputId": "2f8a1899-ec63-4484-d94c-b97d9532d324"
      },
      "source": [
        "num_students"
      ],
      "execution_count": null,
      "outputs": [
        {
          "output_type": "execute_result",
          "data": {
            "text/plain": [
              "3"
            ]
          },
          "metadata": {
            "tags": []
          },
          "execution_count": 51
        }
      ]
    },
    {
      "cell_type": "code",
      "metadata": {
        "id": "KL22eXfgIx_V",
        "colab": {
          "base_uri": "https://localhost:8080/"
        },
        "outputId": "9be7da86-2767-497f-9661-f08ebc55b0eb"
      },
      "source": [
        "grades[\"Tim\"]"
      ],
      "execution_count": null,
      "outputs": [
        {
          "output_type": "execute_result",
          "data": {
            "text/plain": [
              "99"
            ]
          },
          "metadata": {
            "tags": []
          },
          "execution_count": 50
        }
      ]
    },
    {
      "cell_type": "code",
      "metadata": {
        "id": "G7GXUTk6JHAA"
      },
      "source": [
        "\n",
        "tweet = {\n",
        "\"user\" : \"joelgrus\",\n",
        "\"text\" : \"Data Science is Awesome\",\n",
        "\"retweet_count\" : 100,\n",
        "\"hashtags\" : [\"#data\", \"#science\", \"#datascience\", \"#awesome\", \"#yolo\"]\n",
        "}"
      ],
      "execution_count": null,
      "outputs": []
    },
    {
      "cell_type": "code",
      "metadata": {
        "id": "5abFXyMUJK7_",
        "colab": {
          "base_uri": "https://localhost:8080/"
        },
        "outputId": "e26c5dad-088e-49a6-c41d-a039470bf4cf"
      },
      "source": [
        "tweet"
      ],
      "execution_count": null,
      "outputs": [
        {
          "output_type": "execute_result",
          "data": {
            "text/plain": [
              "{'hashtags': ['#data', '#science', '#datascience', '#awesome', '#yolo'],\n",
              " 'retweet_count': 100,\n",
              " 'text': 'Data Science is Awesome',\n",
              " 'user': 'joelgrus'}"
            ]
          },
          "metadata": {
            "tags": []
          },
          "execution_count": 53
        }
      ]
    },
    {
      "cell_type": "code",
      "metadata": {
        "id": "okxeWLMFJaQt"
      },
      "source": [
        "tweet_keys = tweet.keys()"
      ],
      "execution_count": null,
      "outputs": []
    },
    {
      "cell_type": "code",
      "metadata": {
        "id": "GKc1UIKuJdlH",
        "colab": {
          "base_uri": "https://localhost:8080/"
        },
        "outputId": "eee57041-38fb-4e40-8f2e-22509533a3d2"
      },
      "source": [
        "tweet_keys"
      ],
      "execution_count": null,
      "outputs": [
        {
          "output_type": "execute_result",
          "data": {
            "text/plain": [
              "dict_keys(['user', 'text', 'retweet_count', 'hashtags'])"
            ]
          },
          "metadata": {
            "tags": []
          },
          "execution_count": 55
        }
      ]
    },
    {
      "cell_type": "code",
      "metadata": {
        "id": "BZTx_DjVJhth"
      },
      "source": [
        "tweet_items = tweet.items() # list of keys\n"
      ],
      "execution_count": null,
      "outputs": []
    },
    {
      "cell_type": "code",
      "metadata": {
        "id": "dpCi_0jmJjJR",
        "colab": {
          "base_uri": "https://localhost:8080/"
        },
        "outputId": "1d4d0fcc-ca65-439f-97be-156f51b86a73"
      },
      "source": [
        "tweet_items"
      ],
      "execution_count": null,
      "outputs": [
        {
          "output_type": "execute_result",
          "data": {
            "text/plain": [
              "dict_items([('user', 'joelgrus'), ('text', 'Data Science is Awesome'), ('retweet_count', 100), ('hashtags', ['#data', '#science', '#datascience', '#awesome', '#yolo'])])"
            ]
          },
          "metadata": {
            "tags": []
          },
          "execution_count": 57
        }
      ]
    },
    {
      "cell_type": "code",
      "metadata": {
        "id": "MmJBnSy-JodY",
        "colab": {
          "base_uri": "https://localhost:8080/"
        },
        "outputId": "b75a0808-f895-4f15-8e27-fe11c5875dad"
      },
      "source": [
        "# list of values\n",
        "# list of (key, value) tuples\n",
        "\"user\" in tweet_keys\n",
        "\"user\" in tweet "
      ],
      "execution_count": null,
      "outputs": [
        {
          "output_type": "execute_result",
          "data": {
            "text/plain": [
              "True"
            ]
          },
          "metadata": {
            "tags": []
          },
          "execution_count": 58
        }
      ]
    },
    {
      "cell_type": "code",
      "metadata": {
        "id": "g5BuheEsJtX7"
      },
      "source": [
        ""
      ],
      "execution_count": null,
      "outputs": []
    },
    {
      "cell_type": "code",
      "metadata": {
        "id": "OH3uF-CLJtdg",
        "colab": {
          "base_uri": "https://localhost:8080/"
        },
        "outputId": "d54e3473-fbb8-4167-ac83-4d6218bab0af"
      },
      "source": [
        "\"user\" in tweet "
      ],
      "execution_count": null,
      "outputs": [
        {
          "output_type": "execute_result",
          "data": {
            "text/plain": [
              "True"
            ]
          },
          "metadata": {
            "tags": []
          },
          "execution_count": 59
        }
      ]
    },
    {
      "cell_type": "code",
      "metadata": {
        "id": "NbfBJRhOJDUE"
      },
      "source": [
        "tweet_values = tweet.values()\n",
        "# more Pythonic, uses faster dict in\"joelgrus\" in tweet_values\n",
        " "
      ],
      "execution_count": null,
      "outputs": []
    },
    {
      "cell_type": "code",
      "metadata": {
        "id": "PXA5hVgvJDa8",
        "colab": {
          "base_uri": "https://localhost:8080/"
        },
        "outputId": "579b302b-a1ad-4b7f-bcc5-d3015c992fac"
      },
      "source": [
        "tweet_values"
      ],
      "execution_count": null,
      "outputs": [
        {
          "output_type": "execute_result",
          "data": {
            "text/plain": [
              "dict_values(['joelgrus', 'Data Science is Awesome', 100, ['#data', '#science', '#datascience', '#awesome', '#yolo']])"
            ]
          },
          "metadata": {
            "tags": []
          },
          "execution_count": 63
        }
      ]
    },
    {
      "cell_type": "code",
      "metadata": {
        "id": "nVfDqM8iOWpr",
        "colab": {
          "base_uri": "https://localhost:8080/",
          "height": 231
        },
        "outputId": "06acdea2-9bd2-43dd-9fc4-e4c53bcfb00f"
      },
      "source": [
        "word_counts = {}\n",
        "for word in document:\n",
        "    if word in word_counts:\n",
        "        word_counts[word] += 1\n",
        "    else:\n",
        "        word_counts[word] = 1"
      ],
      "execution_count": null,
      "outputs": [
        {
          "output_type": "error",
          "ename": "NameError",
          "evalue": "ignored",
          "traceback": [
            "\u001b[0;31m---------------------------------------------------------------------------\u001b[0m",
            "\u001b[0;31mNameError\u001b[0m                                 Traceback (most recent call last)",
            "\u001b[0;32m<ipython-input-66-ffdb8a3bfceb>\u001b[0m in \u001b[0;36m<module>\u001b[0;34m()\u001b[0m\n\u001b[1;32m      1\u001b[0m \u001b[0mword_counts\u001b[0m \u001b[0;34m=\u001b[0m \u001b[0;34m{\u001b[0m\u001b[0;34m}\u001b[0m\u001b[0;34m\u001b[0m\u001b[0;34m\u001b[0m\u001b[0m\n\u001b[0;32m----> 2\u001b[0;31m \u001b[0;32mfor\u001b[0m \u001b[0mword\u001b[0m \u001b[0;32min\u001b[0m \u001b[0mdocument\u001b[0m\u001b[0;34m:\u001b[0m\u001b[0;34m\u001b[0m\u001b[0;34m\u001b[0m\u001b[0m\n\u001b[0m\u001b[1;32m      3\u001b[0m     \u001b[0;32mif\u001b[0m \u001b[0mword\u001b[0m \u001b[0;32min\u001b[0m \u001b[0mword_counts\u001b[0m\u001b[0;34m:\u001b[0m\u001b[0;34m\u001b[0m\u001b[0;34m\u001b[0m\u001b[0m\n\u001b[1;32m      4\u001b[0m         \u001b[0mword_counts\u001b[0m\u001b[0;34m[\u001b[0m\u001b[0mword\u001b[0m\u001b[0;34m]\u001b[0m \u001b[0;34m+=\u001b[0m \u001b[0;36m1\u001b[0m\u001b[0;34m\u001b[0m\u001b[0;34m\u001b[0m\u001b[0m\n\u001b[1;32m      5\u001b[0m     \u001b[0;32melse\u001b[0m\u001b[0;34m:\u001b[0m\u001b[0;34m\u001b[0m\u001b[0;34m\u001b[0m\u001b[0m\n",
            "\u001b[0;31mNameError\u001b[0m: name 'document' is not defined"
          ]
        }
      ]
    },
    {
      "cell_type": "code",
      "metadata": {
        "id": "HzhJ-3SXJDcf"
      },
      "source": [
        "  \n",
        "word_counts = {}\n",
        "for word in document:\n",
        "if word in word_counts:\n",
        "word_counts[word] += 1\n",
        "else:\n",
        "word_counts[word] = 1\n",
        "You could also use the “forgiveness is better than permission” approach and just handle\n",
        "the exception from trying to look up a missing key:\n",
        "word_counts = {}\n",
        "for word in document:\n",
        "try:\n",
        "word_counts[word] += 1\n",
        "except KeyError:\n",
        "word_counts[word] = 1\n",
        "A third approach is to use get , which behaves gracefully for missing keys:\n",
        "word_counts = {}\n",
        "for word in document:\n",
        "previous_count = word_counts.get(word, 0)\n",
        "word_counts[word] = previous_count + 1\n",
        "Every one of these is slightly unwieldy, which is why defaultdict is useful. A\n",
        "defaultdict is like a regular dictionary, except that when you try to look up a key it\n",
        "doesn’t contain, it first adds a value for it using a zero-argument function you provided\n",
        "when you created it. In order to use defaultdict s, you have to import them from\n",
        "collections :"
      ],
      "execution_count": null,
      "outputs": []
    },
    {
      "cell_type": "code",
      "metadata": {
        "id": "Wx8Aqzh66sBS"
      },
      "source": [
        " \n",
        "= tweet.keys()\n",
        "tweet_values = tweet.values()\n",
        "tweet_items = tweet.items() # list of keys\n",
        "# list of values\n",
        "# list of (key, value) tuples\n",
        "\"user\" in tweet_keys\n",
        "\"user\" in tweet # True, but uses a slow list in\n",
        "# more Pythonic, uses faster dict in\"joelgrus\" in tweet_values\n",
        "# True\n",
        "Dictionary keys must be immutable; in particular, you cannot use list s as keys. If you\n",
        "need a multipart key, you should use a tuple or figure out a way to turn the key into a\n",
        "string.\n",
        "defaultdict\n",
        "Imagine that you’re trying to count the words in a document. An obvious approach is to\n",
        "create a dictionary in which the keys are words and the values are counts. As you check\n",
        "each word, you can increment its count if it’s already in the dictionary and add it to the\n",
        "dictionary if it’s not:\n",
        "word_counts = {}\n",
        "for word in document:\n",
        "if word in word_counts:\n",
        "word_counts[word] += 1\n",
        "else:\n",
        "word_counts[word] = 1\n",
        "You could also use the “forgiveness is better than permission” approach and just handle\n",
        "the exception from trying to look up a missing key:\n",
        "word_counts = {}\n",
        "for word in document:\n",
        "try:\n",
        "word_counts[word] += 1\n",
        "except KeyError:\n",
        "word_counts[word] = 1\n",
        "A third approach is to use get , which behaves gracefully for missing keys:\n",
        "word_counts = {}\n",
        "for word in document:\n",
        "previous_count = word_counts.get(word, 0)\n",
        "word_counts[word] = previous_count + 1\n",
        "Every one of these is slightly unwieldy, which is why defaultdict is useful. A\n",
        "defaultdict is like a regular dictionary, except that when you try to look up a key it\n",
        "doesn’t contain, it first adds a value for it using a zero-argument function you provided\n",
        "when you created it. In order to use defaultdict s, you have to import them from\n",
        "collections :\n",
        "from collections import defaultdict\n",
        "word_counts = defaultdict(int)\n",
        "for word in document:\n",
        "word_counts[word] += 1\n",
        "# int() produces 0\n",
        "They can also be useful with list or dict or even your own functions:\n",
        "dd_list = defaultdict(list)\n",
        "dd_list[2].append(1)\n",
        "# list() produces an empty list\n",
        "# now dd_list contains {2: [1]}dd_dict = defaultdict(dict)\n",
        "dd_dict[\"Joel\"][\"City\"] = \"Seattle\" # dict() produces an empty dict\n",
        "# { \"Joel\" : { \"City\" : Seattle\"}}\n",
        "dd_pair = defaultdict(lambda: [0, 0])\n",
        "dd_pair[2][1] = 1 # now dd_pair contains {2: [0,1]}\n",
        "These will be useful when we’re using dictionaries to “collect” results by some key and\n",
        "don’t want to have to check every time to see if the key exists yet.\n",
        "Counter\n",
        "A Counter turns a sequence of values into a defaultdict(int) -like object mapping keys\n",
        "to counts. We will primarily use it to create histograms:\n",
        "from collections import Counter\n",
        "c = Counter([0, 1, 2, 0])\n",
        "# c is (basically) { 0 : 2, 1 : 1, 2 : 1 }\n",
        "This gives us a very simple way to solve our word_counts problem:\n",
        "word_counts = Counter(document)\n",
        "A Counter instance has a most_common method that is frequently useful:\n",
        "# print the 10 most common words and their counts\n",
        "for word, count in word_counts.most_common(10):\n",
        "print word, count"
      ],
      "execution_count": null,
      "outputs": []
    },
    {
      "cell_type": "code",
      "metadata": {
        "id": "8CSn1tS34Ebt"
      },
      "source": [
        "if 1 > 2:\n",
        "    message = \"if only 1 were greater than two...\"\n",
        "elif 1 > 3:\n",
        "    message = \"elif stands for 'else if'\"\n",
        "else:\n",
        "    message = \"when all else fails use else (if you want to)\"\n",
        "\n",
        "\n"
      ],
      "execution_count": null,
      "outputs": []
    },
    {
      "cell_type": "code",
      "metadata": {
        "id": "_lOZGoAVT02r"
      },
      "source": [
        "parity = \"even\" if x % 23 == 0 else \"odd\"\n"
      ],
      "execution_count": null,
      "outputs": []
    },
    {
      "cell_type": "code",
      "metadata": {
        "id": "5xfB2WIDT2zl",
        "colab": {
          "base_uri": "https://localhost:8080/",
          "height": 35
        },
        "outputId": "18d8cb2b-4b86-4524-967e-c2c121d62068"
      },
      "source": [
        "parity"
      ],
      "execution_count": null,
      "outputs": [
        {
          "output_type": "execute_result",
          "data": {
            "application/vnd.google.colaboratory.intrinsic+json": {
              "type": "string"
            },
            "text/plain": [
              "'odd'"
            ]
          },
          "metadata": {
            "tags": []
          },
          "execution_count": 71
        }
      ]
    },
    {
      "cell_type": "code",
      "metadata": {
        "id": "yGYZpVzsUUGB"
      },
      "source": [
        "Control Flow\n",
        "if 1 > 2:\n",
        "    message = \"if only 1 were greater than two...\"\n",
        "elif 1 > 3:\n",
        "    message = \"elif stands for 'else if'\"\n",
        "else:\n",
        "    message = \"when all else fails use else (if you want to)\"\n"
      ],
      "execution_count": null,
      "outputs": []
    },
    {
      "cell_type": "code",
      "metadata": {
        "id": "KoyMGMFRUhe2"
      },
      "source": [
        "parity = \"even\" if x % 2 == 0 else \"odd\"\n"
      ],
      "execution_count": null,
      "outputs": []
    },
    {
      "cell_type": "code",
      "metadata": {
        "id": "AN4Q8cQ0o8BT",
        "colab": {
          "base_uri": "https://localhost:8080/"
        },
        "outputId": "4be01e8f-9f19-4c2d-ec4f-de82e009b5ef"
      },
      "source": [
        "x = 0\n",
        "while x < 10:\n",
        "    print(x, \"is less than 10\")\n",
        "    x += 1"
      ],
      "execution_count": null,
      "outputs": [
        {
          "output_type": "stream",
          "text": [
            "0 is less than 10\n",
            "1 is less than 10\n",
            "2 is less than 10\n",
            "3 is less than 10\n",
            "4 is less than 10\n",
            "5 is less than 10\n",
            "6 is less than 10\n",
            "7 is less than 10\n",
            "8 is less than 10\n",
            "9 is less than 10\n"
          ],
          "name": "stdout"
        }
      ]
    },
    {
      "cell_type": "code",
      "metadata": {
        "id": "XETHhARLpAyw",
        "colab": {
          "base_uri": "https://localhost:8080/"
        },
        "outputId": "ec033213-4a9a-43c6-e45c-49268255a5c5"
      },
      "source": [
        "\n",
        "for x in range(10):\n",
        "    print(x, \"is less than 10\")"
      ],
      "execution_count": null,
      "outputs": [
        {
          "output_type": "stream",
          "text": [
            "0 is less than 10\n",
            "1 is less than 10\n",
            "2 is less than 10\n",
            "3 is less than 10\n",
            "4 is less than 10\n",
            "5 is less than 10\n",
            "6 is less than 10\n",
            "7 is less than 10\n",
            "8 is less than 10\n",
            "9 is less than 10\n"
          ],
          "name": "stdout"
        }
      ]
    },
    {
      "cell_type": "code",
      "metadata": {
        "id": "FY7qRP9ApXH9"
      },
      "source": [
        "for x in range(100):\n",
        "    if x == 3:\n",
        " \n",
        "        continue # go immediately to the next iteration\n",
        " \n",
        "    if x == 15:\n",
        "        break\n",
        "    \n",
        "# quit the loop entirely\n",
        " "
      ],
      "execution_count": null,
      "outputs": []
    },
    {
      "cell_type": "code",
      "metadata": {
        "id": "oMBZsJMRuqwi"
      },
      "source": [
        "\n",
        " \n",
        "one_is_less_than_two = 1 < 2\n",
        "true_equals_false = True == False"
      ],
      "execution_count": null,
      "outputs": []
    },
    {
      "cell_type": "code",
      "metadata": {
        "id": "y_r-zZFxutXV",
        "colab": {
          "base_uri": "https://localhost:8080/"
        },
        "outputId": "0348e952-5204-4691-fec2-3006c1a8ec56"
      },
      "source": [
        "one_is_less_than_two\n"
      ],
      "execution_count": null,
      "outputs": [
        {
          "output_type": "execute_result",
          "data": {
            "text/plain": [
              "True"
            ]
          },
          "metadata": {
            "tags": []
          },
          "execution_count": 94
        }
      ]
    },
    {
      "cell_type": "code",
      "metadata": {
        "id": "UNj4uux5uugT",
        "colab": {
          "base_uri": "https://localhost:8080/"
        },
        "outputId": "ab4399a8-a321-41e7-851c-e69de4b3777c"
      },
      "source": [
        "true_equals_false"
      ],
      "execution_count": null,
      "outputs": [
        {
          "output_type": "execute_result",
          "data": {
            "text/plain": [
              "False"
            ]
          },
          "metadata": {
            "tags": []
          },
          "execution_count": 95
        }
      ]
    },
    {
      "cell_type": "code",
      "metadata": {
        "id": "CCI2AMcww4FA",
        "colab": {
          "base_uri": "https://localhost:8080/"
        },
        "outputId": "e702ce84-a73b-4d6f-94a5-0c5ce29ee5a6"
      },
      "source": [
        "x = None\n",
        "print(x == None)\n",
        "print(x is None)"
      ],
      "execution_count": null,
      "outputs": [
        {
          "output_type": "stream",
          "text": [
            "True\n",
            "True\n"
          ],
          "name": "stdout"
        }
      ]
    },
    {
      "cell_type": "code",
      "metadata": {
        "id": "U6KSB6BaxoEL"
      },
      "source": [
        "safe_x = x or 0"
      ],
      "execution_count": null,
      "outputs": []
    },
    {
      "cell_type": "code",
      "metadata": {
        "id": "mtUKuuCWyhJd",
        "colab": {
          "base_uri": "https://localhost:8080/"
        },
        "outputId": "c8613053-15f6-4036-fe94-79313772a6cc"
      },
      "source": [
        "safe_x"
      ],
      "execution_count": null,
      "outputs": [
        {
          "output_type": "execute_result",
          "data": {
            "text/plain": [
              "0"
            ]
          },
          "metadata": {
            "tags": []
          },
          "execution_count": 105
        }
      ]
    },
    {
      "cell_type": "code",
      "metadata": {
        "id": "vbxAawEp4EZi",
        "colab": {
          "base_uri": "https://localhost:8080/"
        },
        "outputId": "1fab917a-8526-4058-f088-0d88ec5466c4"
      },
      "source": [
        "all([True, 1, { 3 }])\n",
        "\n",
        "\n",
        "\n"
      ],
      "execution_count": null,
      "outputs": [
        {
          "output_type": "execute_result",
          "data": {
            "text/plain": [
              "True"
            ]
          },
          "metadata": {
            "tags": []
          },
          "execution_count": 107
        }
      ]
    },
    {
      "cell_type": "code",
      "metadata": {
        "id": "d2ZA6Q7DyqaC",
        "colab": {
          "base_uri": "https://localhost:8080/"
        },
        "outputId": "1cda11cb-ab2f-4f15-d1fa-161a8093e660"
      },
      "source": [
        "all([True, 1, {}])\n"
      ],
      "execution_count": null,
      "outputs": [
        {
          "output_type": "execute_result",
          "data": {
            "text/plain": [
              "False"
            ]
          },
          "metadata": {
            "tags": []
          },
          "execution_count": 108
        }
      ]
    },
    {
      "cell_type": "code",
      "metadata": {
        "id": "35DhAYnzyqfH",
        "colab": {
          "base_uri": "https://localhost:8080/"
        },
        "outputId": "25327e44-93a4-46c5-f337-2ec3af8e59fc"
      },
      "source": [
        "any([True, 1, {}])\n"
      ],
      "execution_count": null,
      "outputs": [
        {
          "output_type": "execute_result",
          "data": {
            "text/plain": [
              "True"
            ]
          },
          "metadata": {
            "tags": []
          },
          "execution_count": 109
        }
      ]
    },
    {
      "cell_type": "code",
      "metadata": {
        "id": "hg5xBAIgysyp",
        "colab": {
          "base_uri": "https://localhost:8080/"
        },
        "outputId": "57b8e2ba-cab2-451a-f2e7-ed88a76173fb"
      },
      "source": [
        "all([])\n",
        " "
      ],
      "execution_count": null,
      "outputs": [
        {
          "output_type": "execute_result",
          "data": {
            "text/plain": [
              "True"
            ]
          },
          "metadata": {
            "tags": []
          },
          "execution_count": 110
        }
      ]
    },
    {
      "cell_type": "code",
      "metadata": {
        "id": "JFoxfbryyuK5",
        "colab": {
          "base_uri": "https://localhost:8080/"
        },
        "outputId": "d6f415cc-ff8f-4cce-f7ab-a303ffaa1b3f"
      },
      "source": [
        "any([])"
      ],
      "execution_count": null,
      "outputs": [
        {
          "output_type": "execute_result",
          "data": {
            "text/plain": [
              "False"
            ]
          },
          "metadata": {
            "tags": []
          },
          "execution_count": 111
        }
      ]
    },
    {
      "cell_type": "code",
      "metadata": {
        "id": "6M6J0RxXzAhD"
      },
      "source": [
        "def string():\n",
        "    return \"stringss\""
      ],
      "execution_count": null,
      "outputs": []
    },
    {
      "cell_type": "code",
      "metadata": {
        "id": "00ZC2kD6zaF4",
        "colab": {
          "base_uri": "https://localhost:8080/"
        },
        "outputId": "8371ca0c-f601-4b92-81dc-bd03621e78aa"
      },
      "source": [
        "s = string()\n",
        "type(s)"
      ],
      "execution_count": null,
      "outputs": [
        {
          "output_type": "execute_result",
          "data": {
            "text/plain": [
              "str"
            ]
          },
          "metadata": {
            "tags": []
          },
          "execution_count": 119
        }
      ]
    },
    {
      "cell_type": "code",
      "metadata": {
        "id": "OR6BflFwTzjY"
      },
      "source": [
        "if s:\n",
        "    first_char = s[0]\n",
        "else:\n",
        "    first_char = \"\""
      ],
      "execution_count": null,
      "outputs": []
    },
    {
      "cell_type": "code",
      "metadata": {
        "id": "-DXi_qo04EXN"
      },
      "source": [
        "first_char = s and s[0]\n",
        " \n",
        "\n",
        "\n"
      ],
      "execution_count": null,
      "outputs": []
    },
    {
      "cell_type": "code",
      "metadata": {
        "id": "2RcgZnXAzRr6",
        "colab": {
          "base_uri": "https://localhost:8080/",
          "height": 35
        },
        "outputId": "3cf20355-5177-4168-9af8-fa5badb71b71"
      },
      "source": [
        "first_char"
      ],
      "execution_count": null,
      "outputs": [
        {
          "output_type": "execute_result",
          "data": {
            "application/vnd.google.colaboratory.intrinsic+json": {
              "type": "string"
            },
            "text/plain": [
              "'s'"
            ]
          },
          "metadata": {
            "tags": []
          },
          "execution_count": 122
        }
      ]
    },
    {
      "cell_type": "code",
      "metadata": {
        "id": "7VnG-BizAA3U"
      },
      "source": [
        "x = sorted([-4,1,-2,3], key=abs, reverse=True) # is [-4,3,-2,1]\n"
      ],
      "execution_count": null,
      "outputs": []
    },
    {
      "cell_type": "code",
      "metadata": {
        "id": "yiLwrJ5A8GKH",
        "colab": {
          "base_uri": "https://localhost:8080/",
          "height": 129
        },
        "outputId": "cdd7ad7b-a6b0-46af-bd1f-d660969ca51e"
      },
      "source": [
        "# sort the list by absolute value from largest to smallest\n",
        "x = sorted([-4,1,-2,3], key=abs, reverse=True) # is [-4,3,-2,1]\n",
        "\n",
        "\n",
        "# sort the words and counts from highest count to lowest\n",
        "wc = sorted(word_counts.items(),key=lambda (word, count): count,reverse=True)"
      ],
      "execution_count": null,
      "outputs": [
        {
          "output_type": "error",
          "ename": "SyntaxError",
          "evalue": "ignored",
          "traceback": [
            "\u001b[0;36m  File \u001b[0;32m\"<ipython-input-123-422a42839542>\"\u001b[0;36m, line \u001b[0;32m6\u001b[0m\n\u001b[0;31m    wc = sorted(word_counts.items(),key=lambda (word, count): count,reverse=True)\u001b[0m\n\u001b[0m                                               ^\u001b[0m\n\u001b[0;31mSyntaxError\u001b[0m\u001b[0;31m:\u001b[0m invalid syntax\n"
          ]
        }
      ]
    },
    {
      "cell_type": "code",
      "metadata": {
        "id": "qNntf5juAfFQ"
      },
      "source": [
        "even_numbers = [x for x in range(5) if x % 2 == 0]\n",
        " "
      ],
      "execution_count": null,
      "outputs": []
    },
    {
      "cell_type": "code",
      "metadata": {
        "id": "9V9FconPAoTy",
        "colab": {
          "base_uri": "https://localhost:8080/"
        },
        "outputId": "52a5b1f5-acb7-4760-b472-1d5f015153a2"
      },
      "source": [
        "even_numbers"
      ],
      "execution_count": null,
      "outputs": [
        {
          "output_type": "execute_result",
          "data": {
            "text/plain": [
              "[0, 2, 4]"
            ]
          },
          "metadata": {
            "tags": []
          },
          "execution_count": 127
        }
      ]
    },
    {
      "cell_type": "code",
      "metadata": {
        "id": "A0mYA_LwAmvf"
      },
      "source": [
        "squares = [x * x for x in range(5)]\n",
        "even_squares = [x * x for x in even_numbers]"
      ],
      "execution_count": null,
      "outputs": []
    },
    {
      "cell_type": "code",
      "metadata": {
        "id": "lI5OZ8ZxAs1e",
        "colab": {
          "base_uri": "https://localhost:8080/"
        },
        "outputId": "847c07a5-45e4-4db6-e531-4bc2916d7c0d"
      },
      "source": [
        "even_squares"
      ],
      "execution_count": null,
      "outputs": [
        {
          "output_type": "execute_result",
          "data": {
            "text/plain": [
              "[0, 4, 16]"
            ]
          },
          "metadata": {
            "tags": []
          },
          "execution_count": 129
        }
      ]
    },
    {
      "cell_type": "code",
      "metadata": {
        "id": "64xQqO1XAfIR",
        "colab": {
          "base_uri": "https://localhost:8080/"
        },
        "outputId": "b919650e-babd-483f-b8a5-5a6ab1fd0f01"
      },
      "source": [
        "squares"
      ],
      "execution_count": null,
      "outputs": [
        {
          "output_type": "execute_result",
          "data": {
            "text/plain": [
              "[0, 1, 4, 9, 16]"
            ]
          },
          "metadata": {
            "tags": []
          },
          "execution_count": 130
        }
      ]
    },
    {
      "cell_type": "code",
      "metadata": {
        "id": "PqKFm9SQAB1t",
        "colab": {
          "base_uri": "https://localhost:8080/"
        },
        "outputId": "94ee7701-15ed-4658-fade-3d2485936ba5"
      },
      "source": [
        "x"
      ],
      "execution_count": null,
      "outputs": [
        {
          "output_type": "execute_result",
          "data": {
            "text/plain": [
              "[-4, 3, -2, 1]"
            ]
          },
          "metadata": {
            "tags": []
          },
          "execution_count": 125
        }
      ]
    },
    {
      "cell_type": "code",
      "metadata": {
        "id": "AZjmgbaCAB3w"
      },
      "source": [
        "wc"
      ],
      "execution_count": null,
      "outputs": []
    },
    {
      "cell_type": "code",
      "metadata": {
        "id": "_voQ7ZzeA3kX"
      },
      "source": [
        "square_dict = { x : x * x for x in range(5) }\n"
      ],
      "execution_count": null,
      "outputs": []
    },
    {
      "cell_type": "code",
      "metadata": {
        "id": "pcRuubq0BG-8",
        "colab": {
          "base_uri": "https://localhost:8080/"
        },
        "outputId": "d9fb35f9-39aa-4105-9a23-7f335e0ac071"
      },
      "source": [
        "square_dict"
      ],
      "execution_count": null,
      "outputs": [
        {
          "output_type": "execute_result",
          "data": {
            "text/plain": [
              "{0: 0, 1: 1, 2: 4, 3: 9, 4: 16}"
            ]
          },
          "metadata": {
            "tags": []
          },
          "execution_count": 134
        }
      ]
    },
    {
      "cell_type": "code",
      "metadata": {
        "id": "i9vvT9xRBRcj"
      },
      "source": [
        "square_set = { x * x*x for x in [-1, -2,1] }\n"
      ],
      "execution_count": null,
      "outputs": []
    },
    {
      "cell_type": "code",
      "metadata": {
        "id": "EHJC44M-BUOJ",
        "colab": {
          "base_uri": "https://localhost:8080/"
        },
        "outputId": "601e5a1b-88ad-47fa-ecad-addfe0879271"
      },
      "source": [
        "square_set"
      ],
      "execution_count": null,
      "outputs": [
        {
          "output_type": "execute_result",
          "data": {
            "text/plain": [
              "{-8, -1, 1}"
            ]
          },
          "metadata": {
            "tags": []
          },
          "execution_count": 144
        }
      ]
    },
    {
      "cell_type": "code",
      "metadata": {
        "id": "SXFXbEnbBnZ2"
      },
      "source": [
        "zeroes = [0 for _ in even_numbers]\n"
      ],
      "execution_count": null,
      "outputs": []
    },
    {
      "cell_type": "code",
      "metadata": {
        "id": "2pVkB9VKDGwO",
        "colab": {
          "base_uri": "https://localhost:8080/"
        },
        "outputId": "9b9c078e-ce56-4d04-d070-3c770528a3d4"
      },
      "source": [
        "zeroes"
      ],
      "execution_count": null,
      "outputs": [
        {
          "output_type": "execute_result",
          "data": {
            "text/plain": [
              "[0, 0, 0]"
            ]
          },
          "metadata": {
            "tags": []
          },
          "execution_count": 147
        }
      ]
    },
    {
      "cell_type": "code",
      "metadata": {
        "id": "wVQMjOBzG4Hn"
      },
      "source": [
        "pairs = [(x, y) for x in range(10) for y in range(10)]\n"
      ],
      "execution_count": null,
      "outputs": []
    },
    {
      "cell_type": "code",
      "metadata": {
        "id": "O3vcfyWiG5Zk",
        "colab": {
          "base_uri": "https://localhost:8080/"
        },
        "outputId": "3f839127-ed4a-46ee-b269-92db308d758f"
      },
      "source": [
        "pairs"
      ],
      "execution_count": null,
      "outputs": [
        {
          "output_type": "execute_result",
          "data": {
            "text/plain": [
              "[(0, 0),\n",
              " (0, 1),\n",
              " (0, 2),\n",
              " (0, 3),\n",
              " (0, 4),\n",
              " (0, 5),\n",
              " (0, 6),\n",
              " (0, 7),\n",
              " (0, 8),\n",
              " (0, 9),\n",
              " (1, 0),\n",
              " (1, 1),\n",
              " (1, 2),\n",
              " (1, 3),\n",
              " (1, 4),\n",
              " (1, 5),\n",
              " (1, 6),\n",
              " (1, 7),\n",
              " (1, 8),\n",
              " (1, 9),\n",
              " (2, 0),\n",
              " (2, 1),\n",
              " (2, 2),\n",
              " (2, 3),\n",
              " (2, 4),\n",
              " (2, 5),\n",
              " (2, 6),\n",
              " (2, 7),\n",
              " (2, 8),\n",
              " (2, 9),\n",
              " (3, 0),\n",
              " (3, 1),\n",
              " (3, 2),\n",
              " (3, 3),\n",
              " (3, 4),\n",
              " (3, 5),\n",
              " (3, 6),\n",
              " (3, 7),\n",
              " (3, 8),\n",
              " (3, 9),\n",
              " (4, 0),\n",
              " (4, 1),\n",
              " (4, 2),\n",
              " (4, 3),\n",
              " (4, 4),\n",
              " (4, 5),\n",
              " (4, 6),\n",
              " (4, 7),\n",
              " (4, 8),\n",
              " (4, 9),\n",
              " (5, 0),\n",
              " (5, 1),\n",
              " (5, 2),\n",
              " (5, 3),\n",
              " (5, 4),\n",
              " (5, 5),\n",
              " (5, 6),\n",
              " (5, 7),\n",
              " (5, 8),\n",
              " (5, 9),\n",
              " (6, 0),\n",
              " (6, 1),\n",
              " (6, 2),\n",
              " (6, 3),\n",
              " (6, 4),\n",
              " (6, 5),\n",
              " (6, 6),\n",
              " (6, 7),\n",
              " (6, 8),\n",
              " (6, 9),\n",
              " (7, 0),\n",
              " (7, 1),\n",
              " (7, 2),\n",
              " (7, 3),\n",
              " (7, 4),\n",
              " (7, 5),\n",
              " (7, 6),\n",
              " (7, 7),\n",
              " (7, 8),\n",
              " (7, 9),\n",
              " (8, 0),\n",
              " (8, 1),\n",
              " (8, 2),\n",
              " (8, 3),\n",
              " (8, 4),\n",
              " (8, 5),\n",
              " (8, 6),\n",
              " (8, 7),\n",
              " (8, 8),\n",
              " (8, 9),\n",
              " (9, 0),\n",
              " (9, 1),\n",
              " (9, 2),\n",
              " (9, 3),\n",
              " (9, 4),\n",
              " (9, 5),\n",
              " (9, 6),\n",
              " (9, 7),\n",
              " (9, 8),\n",
              " (9, 9)]"
            ]
          },
          "metadata": {
            "tags": []
          },
          "execution_count": 149
        }
      ]
    },
    {
      "cell_type": "code",
      "metadata": {
        "id": "1CbCOIUAHBgr"
      },
      "source": [
        "increasing_pairs = [(x, y) for x in range(10) for y in range(x + 1, 10)]\n"
      ],
      "execution_count": null,
      "outputs": []
    },
    {
      "cell_type": "code",
      "metadata": {
        "id": "Z9R5HTzhHCUd",
        "colab": {
          "base_uri": "https://localhost:8080/"
        },
        "outputId": "ca9b46a7-54fa-4286-9891-dbdfbffbd378"
      },
      "source": [
        "increasing_pairs"
      ],
      "execution_count": null,
      "outputs": [
        {
          "output_type": "execute_result",
          "data": {
            "text/plain": [
              "[(0, 1),\n",
              " (0, 2),\n",
              " (0, 3),\n",
              " (0, 4),\n",
              " (0, 5),\n",
              " (0, 6),\n",
              " (0, 7),\n",
              " (0, 8),\n",
              " (0, 9),\n",
              " (1, 2),\n",
              " (1, 3),\n",
              " (1, 4),\n",
              " (1, 5),\n",
              " (1, 6),\n",
              " (1, 7),\n",
              " (1, 8),\n",
              " (1, 9),\n",
              " (2, 3),\n",
              " (2, 4),\n",
              " (2, 5),\n",
              " (2, 6),\n",
              " (2, 7),\n",
              " (2, 8),\n",
              " (2, 9),\n",
              " (3, 4),\n",
              " (3, 5),\n",
              " (3, 6),\n",
              " (3, 7),\n",
              " (3, 8),\n",
              " (3, 9),\n",
              " (4, 5),\n",
              " (4, 6),\n",
              " (4, 7),\n",
              " (4, 8),\n",
              " (4, 9),\n",
              " (5, 6),\n",
              " (5, 7),\n",
              " (5, 8),\n",
              " (5, 9),\n",
              " (6, 7),\n",
              " (6, 8),\n",
              " (6, 9),\n",
              " (7, 8),\n",
              " (7, 9),\n",
              " (8, 9)]"
            ]
          },
          "metadata": {
            "tags": []
          },
          "execution_count": 151
        }
      ]
    },
    {
      "cell_type": "code",
      "metadata": {
        "id": "dlSv6zf0AB52"
      },
      "source": [
        "\n",
        "pairs = [(x, y) for x in range(10) for y in range(10)]\n",
        "increasing_pairs = [(x, y) for x in range(10) for y in range(x + 1, 10)]\n",
        " "
      ],
      "execution_count": null,
      "outputs": []
    },
    {
      "cell_type": "code",
      "metadata": {
        "id": "SLWbtycWJxKm",
        "colab": {
          "base_uri": "https://localhost:8080/"
        },
        "outputId": "0ca4b4d8-d67f-4314-e385-472a45e1892f"
      },
      "source": [
        "\n",
        "increasing_pairs"
      ],
      "execution_count": null,
      "outputs": [
        {
          "output_type": "execute_result",
          "data": {
            "text/plain": [
              "[(0, 1),\n",
              " (0, 2),\n",
              " (0, 3),\n",
              " (0, 4),\n",
              " (0, 5),\n",
              " (0, 6),\n",
              " (0, 7),\n",
              " (0, 8),\n",
              " (0, 9),\n",
              " (1, 2),\n",
              " (1, 3),\n",
              " (1, 4),\n",
              " (1, 5),\n",
              " (1, 6),\n",
              " (1, 7),\n",
              " (1, 8),\n",
              " (1, 9),\n",
              " (2, 3),\n",
              " (2, 4),\n",
              " (2, 5),\n",
              " (2, 6),\n",
              " (2, 7),\n",
              " (2, 8),\n",
              " (2, 9),\n",
              " (3, 4),\n",
              " (3, 5),\n",
              " (3, 6),\n",
              " (3, 7),\n",
              " (3, 8),\n",
              " (3, 9),\n",
              " (4, 5),\n",
              " (4, 6),\n",
              " (4, 7),\n",
              " (4, 8),\n",
              " (4, 9),\n",
              " (5, 6),\n",
              " (5, 7),\n",
              " (5, 8),\n",
              " (5, 9),\n",
              " (6, 7),\n",
              " (6, 8),\n",
              " (6, 9),\n",
              " (7, 8),\n",
              " (7, 9),\n",
              " (8, 9)]"
            ]
          },
          "metadata": {
            "tags": []
          },
          "execution_count": 155
        }
      ]
    },
    {
      "cell_type": "code",
      "metadata": {
        "id": "0vhW_5tsJ0o0",
        "colab": {
          "base_uri": "https://localhost:8080/"
        },
        "outputId": "6e84f7b6-513d-4dd1-d107-dacbf7db630f"
      },
      "source": [
        "pairs"
      ],
      "execution_count": null,
      "outputs": [
        {
          "output_type": "execute_result",
          "data": {
            "text/plain": [
              "[(0, 0),\n",
              " (0, 1),\n",
              " (0, 2),\n",
              " (0, 3),\n",
              " (0, 4),\n",
              " (0, 5),\n",
              " (0, 6),\n",
              " (0, 7),\n",
              " (0, 8),\n",
              " (0, 9),\n",
              " (1, 0),\n",
              " (1, 1),\n",
              " (1, 2),\n",
              " (1, 3),\n",
              " (1, 4),\n",
              " (1, 5),\n",
              " (1, 6),\n",
              " (1, 7),\n",
              " (1, 8),\n",
              " (1, 9),\n",
              " (2, 0),\n",
              " (2, 1),\n",
              " (2, 2),\n",
              " (2, 3),\n",
              " (2, 4),\n",
              " (2, 5),\n",
              " (2, 6),\n",
              " (2, 7),\n",
              " (2, 8),\n",
              " (2, 9),\n",
              " (3, 0),\n",
              " (3, 1),\n",
              " (3, 2),\n",
              " (3, 3),\n",
              " (3, 4),\n",
              " (3, 5),\n",
              " (3, 6),\n",
              " (3, 7),\n",
              " (3, 8),\n",
              " (3, 9),\n",
              " (4, 0),\n",
              " (4, 1),\n",
              " (4, 2),\n",
              " (4, 3),\n",
              " (4, 4),\n",
              " (4, 5),\n",
              " (4, 6),\n",
              " (4, 7),\n",
              " (4, 8),\n",
              " (4, 9),\n",
              " (5, 0),\n",
              " (5, 1),\n",
              " (5, 2),\n",
              " (5, 3),\n",
              " (5, 4),\n",
              " (5, 5),\n",
              " (5, 6),\n",
              " (5, 7),\n",
              " (5, 8),\n",
              " (5, 9),\n",
              " (6, 0),\n",
              " (6, 1),\n",
              " (6, 2),\n",
              " (6, 3),\n",
              " (6, 4),\n",
              " (6, 5),\n",
              " (6, 6),\n",
              " (6, 7),\n",
              " (6, 8),\n",
              " (6, 9),\n",
              " (7, 0),\n",
              " (7, 1),\n",
              " (7, 2),\n",
              " (7, 3),\n",
              " (7, 4),\n",
              " (7, 5),\n",
              " (7, 6),\n",
              " (7, 7),\n",
              " (7, 8),\n",
              " (7, 9),\n",
              " (8, 0),\n",
              " (8, 1),\n",
              " (8, 2),\n",
              " (8, 3),\n",
              " (8, 4),\n",
              " (8, 5),\n",
              " (8, 6),\n",
              " (8, 7),\n",
              " (8, 8),\n",
              " (8, 9),\n",
              " (9, 0),\n",
              " (9, 1),\n",
              " (9, 2),\n",
              " (9, 3),\n",
              " (9, 4),\n",
              " (9, 5),\n",
              " (9, 6),\n",
              " (9, 7),\n",
              " (9, 8),\n",
              " (9, 9)]"
            ]
          },
          "metadata": {
            "tags": []
          },
          "execution_count": 154
        }
      ]
    },
    {
      "cell_type": "code",
      "metadata": {
        "id": "rnp0IsQMJ8SS"
      },
      "source": [
        ""
      ],
      "execution_count": null,
      "outputs": []
    },
    {
      "cell_type": "code",
      "metadata": {
        "id": "cxoGbioxJ8U6"
      },
      "source": [
        "def lazy_range(n):\n",
        "    \"\"\"a lazy version of range\"\"\"\n",
        "    i = 0\n",
        "    while i < n:\n",
        "        yield i\n",
        "        i += 1"
      ],
      "execution_count": null,
      "outputs": []
    },
    {
      "cell_type": "code",
      "metadata": {
        "id": "Wr_eocFLLMq6"
      },
      "source": [
        "c = (lazy_range(88))\n"
      ],
      "execution_count": null,
      "outputs": []
    },
    {
      "cell_type": "code",
      "metadata": {
        "id": "Y2yXExveJ8Xk",
        "colab": {
          "base_uri": "https://localhost:8080/"
        },
        "outputId": "87be6418-4a5f-4445-9407-c680184b0e22"
      },
      "source": [
        "next(c)\n",
        "\n"
      ],
      "execution_count": null,
      "outputs": [
        {
          "output_type": "execute_result",
          "data": {
            "text/plain": [
              "0"
            ]
          },
          "metadata": {
            "tags": []
          },
          "execution_count": 167
        }
      ]
    },
    {
      "cell_type": "code",
      "metadata": {
        "id": "BygqERDELB_t"
      },
      "source": [
        ""
      ],
      "execution_count": null,
      "outputs": []
    },
    {
      "cell_type": "code",
      "metadata": {
        "id": "IqYpOrxKLCDe",
        "colab": {
          "base_uri": "https://localhost:8080/"
        },
        "outputId": "cb81ff55-8047-4356-fb0e-7cfd3bf0a0e9"
      },
      "source": [
        "next(c)\n"
      ],
      "execution_count": null,
      "outputs": [
        {
          "output_type": "execute_result",
          "data": {
            "text/plain": [
              "1"
            ]
          },
          "metadata": {
            "tags": []
          },
          "execution_count": 168
        }
      ]
    },
    {
      "cell_type": "code",
      "metadata": {
        "id": "X7BQbPaeKoeH",
        "colab": {
          "base_uri": "https://localhost:8080/"
        },
        "outputId": "377eb987-9fbd-490f-ff70-a17f8c9c330c"
      },
      "source": [
        "for i in lazy_range(10):\n",
        "    print(i)"
      ],
      "execution_count": null,
      "outputs": [
        {
          "output_type": "stream",
          "text": [
            "0\n",
            "1\n",
            "2\n",
            "3\n",
            "4\n",
            "5\n",
            "6\n",
            "7\n",
            "8\n",
            "9\n"
          ],
          "name": "stdout"
        }
      ]
    },
    {
      "cell_type": "code",
      "metadata": {
        "id": "5LhGdDqcObMy"
      },
      "source": [
        ""
      ],
      "execution_count": null,
      "outputs": []
    },
    {
      "cell_type": "code",
      "metadata": {
        "id": "kfUEk27QObPT"
      },
      "source": [
        "def natural_numbers():\n",
        "    \"\"\"returns 1, 2, 3, ...\"\"\"\n",
        "    n = 1\n",
        "    while True:\n",
        "        yield n\n",
        "        n += 1"
      ],
      "execution_count": null,
      "outputs": []
    },
    {
      "cell_type": "code",
      "metadata": {
        "id": "6EFgy8qeObRe",
        "colab": {
          "base_uri": "https://localhost:8080/"
        },
        "outputId": "2e6b0b9d-0ac2-4418-a1f3-876d5b99025d"
      },
      "source": [
        "natural_numbers()"
      ],
      "execution_count": null,
      "outputs": [
        {
          "output_type": "execute_result",
          "data": {
            "text/plain": [
              "<generator object natural_numbers at 0x7f23e5c981d0>"
            ]
          },
          "metadata": {
            "tags": []
          },
          "execution_count": 170
        }
      ]
    },
    {
      "cell_type": "code",
      "metadata": {
        "id": "QIkETJHQTOYj"
      },
      "source": [
        "lazy_evens_below_20 = (i for i in lazy_range(20) if i % 2 == 0)"
      ],
      "execution_count": null,
      "outputs": []
    },
    {
      "cell_type": "code",
      "metadata": {
        "id": "ffYNHXC_TQRV",
        "colab": {
          "base_uri": "https://localhost:8080/"
        },
        "outputId": "b7cc3b12-cb5c-4907-df19-18e9aac0b163"
      },
      "source": [
        "next(lazy_evens_below_20)"
      ],
      "execution_count": null,
      "outputs": [
        {
          "output_type": "execute_result",
          "data": {
            "text/plain": [
              "0"
            ]
          },
          "metadata": {
            "tags": []
          },
          "execution_count": 173
        }
      ]
    },
    {
      "cell_type": "code",
      "metadata": {
        "id": "wAzTkO4RTTxW",
        "colab": {
          "base_uri": "https://localhost:8080/"
        },
        "outputId": "1ba78a0f-7498-4aed-9c7d-4a0b7af34648"
      },
      "source": [
        "next(lazy_evens_below_20)"
      ],
      "execution_count": null,
      "outputs": [
        {
          "output_type": "execute_result",
          "data": {
            "text/plain": [
              "2"
            ]
          },
          "metadata": {
            "tags": []
          },
          "execution_count": 174
        }
      ]
    },
    {
      "cell_type": "code",
      "metadata": {
        "id": "R_GAlJceTT9g",
        "colab": {
          "base_uri": "https://localhost:8080/"
        },
        "outputId": "fd38483f-25a2-4dc9-e03a-69cb1eedfa59"
      },
      "source": [
        "next(lazy_evens_below_20)"
      ],
      "execution_count": null,
      "outputs": [
        {
          "output_type": "execute_result",
          "data": {
            "text/plain": [
              "4"
            ]
          },
          "metadata": {
            "tags": []
          },
          "execution_count": 175
        }
      ]
    },
    {
      "cell_type": "code",
      "metadata": {
        "id": "JheIJyn8TUGw",
        "colab": {
          "base_uri": "https://localhost:8080/"
        },
        "outputId": "449696df-5316-49d0-e779-7b7fec09ac49"
      },
      "source": [
        "next(lazy_evens_below_20)"
      ],
      "execution_count": null,
      "outputs": [
        {
          "output_type": "execute_result",
          "data": {
            "text/plain": [
              "6"
            ]
          },
          "metadata": {
            "tags": []
          },
          "execution_count": 176
        }
      ]
    },
    {
      "cell_type": "code",
      "metadata": {
        "id": "zz5OGtrBTUO_",
        "colab": {
          "base_uri": "https://localhost:8080/"
        },
        "outputId": "494ad89b-d3c5-4525-a225-bf51814ba88e"
      },
      "source": [
        "next(lazy_evens_below_20)"
      ],
      "execution_count": null,
      "outputs": [
        {
          "output_type": "execute_result",
          "data": {
            "text/plain": [
              "8"
            ]
          },
          "metadata": {
            "tags": []
          },
          "execution_count": 177
        }
      ]
    },
    {
      "cell_type": "code",
      "metadata": {
        "id": "MiQc6UgITUW_",
        "colab": {
          "base_uri": "https://localhost:8080/"
        },
        "outputId": "664f3ed9-4857-471e-d44b-fd2a595768ba"
      },
      "source": [
        "next(lazy_evens_below_20)"
      ],
      "execution_count": null,
      "outputs": [
        {
          "output_type": "execute_result",
          "data": {
            "text/plain": [
              "10"
            ]
          },
          "metadata": {
            "tags": []
          },
          "execution_count": 178
        }
      ]
    },
    {
      "cell_type": "code",
      "metadata": {
        "id": "OLydq1hzTUfX",
        "colab": {
          "base_uri": "https://localhost:8080/"
        },
        "outputId": "40d2ac95-136b-4508-bb67-2263532030dd"
      },
      "source": [
        "next(lazy_evens_below_20)"
      ],
      "execution_count": null,
      "outputs": [
        {
          "output_type": "execute_result",
          "data": {
            "text/plain": [
              "12"
            ]
          },
          "metadata": {
            "tags": []
          },
          "execution_count": 179
        }
      ]
    },
    {
      "cell_type": "code",
      "metadata": {
        "id": "FZTcOo21TVQG",
        "colab": {
          "base_uri": "https://localhost:8080/"
        },
        "outputId": "84afa057-ba89-4c0b-ab6f-8583b9fcf933"
      },
      "source": [
        "next(lazy_evens_below_20)"
      ],
      "execution_count": null,
      "outputs": [
        {
          "output_type": "execute_result",
          "data": {
            "text/plain": [
              "14"
            ]
          },
          "metadata": {
            "tags": []
          },
          "execution_count": 180
        }
      ]
    },
    {
      "cell_type": "code",
      "metadata": {
        "id": "3-N_kIuiTVb1",
        "colab": {
          "base_uri": "https://localhost:8080/"
        },
        "outputId": "f5887fd9-4ee4-4e07-f7a3-bd3ea235beb5"
      },
      "source": [
        "next(lazy_evens_below_20)"
      ],
      "execution_count": null,
      "outputs": [
        {
          "output_type": "execute_result",
          "data": {
            "text/plain": [
              "16"
            ]
          },
          "metadata": {
            "tags": []
          },
          "execution_count": 181
        }
      ]
    },
    {
      "cell_type": "code",
      "metadata": {
        "id": "dC8m0RmcUrfv"
      },
      "source": [
        ""
      ],
      "execution_count": null,
      "outputs": []
    },
    {
      "cell_type": "code",
      "metadata": {
        "id": "N98ovoovUrme"
      },
      "source": [
        ""
      ],
      "execution_count": null,
      "outputs": []
    },
    {
      "cell_type": "code",
      "metadata": {
        "id": "wrQKFNIkUro0"
      },
      "source": [
        ""
      ],
      "execution_count": null,
      "outputs": []
    }
  ]
}