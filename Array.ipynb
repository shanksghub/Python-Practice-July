{
  "nbformat": 4,
  "nbformat_minor": 0,
  "metadata": {
    "colab": {
      "name": "Untitled75.ipynb",
      "provenance": [],
      "authorship_tag": "ABX9TyNcZiUFokgwSHsOROwPNesJ",
      "include_colab_link": true
    },
    "kernelspec": {
      "name": "python3",
      "display_name": "Python 3"
    },
    "language_info": {
      "name": "python"
    }
  },
  "cells": [
    {
      "cell_type": "markdown",
      "metadata": {
        "id": "view-in-github",
        "colab_type": "text"
      },
      "source": [
        "<a href=\"https://colab.research.google.com/github/shanksghub/Python-Practice-July/blob/main/Array.ipynb\" target=\"_parent\"><img src=\"https://colab.research.google.com/assets/colab-badge.svg\" alt=\"Open In Colab\"/></a>"
      ]
    },
    {
      "cell_type": "code",
      "metadata": {
        "id": "4BCx2yrH588b"
      },
      "source": [
        "  \n",
        "# Main\n",
        "from sys import setrecursionlimit\n",
        "setrecursionlimit(11000)\n",
        "n=int(input())\n",
        "arr=list(int(i) for i in input().strip().split(' '))\n",
        "\n",
        "x=int(input())\n",
        "print(firstIndex(arr, x))"
      ],
      "execution_count": null,
      "outputs": []
    },
    {
      "cell_type": "code",
      "metadata": {
        "id": "ASpYuJgb5-9E"
      },
      "source": [
        "def firstIndex(arr, x):\n",
        "    l = len(arr)\n",
        "    if l == 0:\n",
        "        return -1\n",
        "    \n",
        "    if arr[0] == x:\n",
        "        return 0\n",
        "    \n",
        "    smallerList = arr[1:]\n",
        "    smallerListOutput = firstIndex(smallerList, x)\n",
        "    if smallerListOutput == -1:\n",
        "        return -1\n",
        "    else:\n",
        "        return smallerListOutput + 1\n"
      ],
      "execution_count": 1,
      "outputs": []
    },
    {
      "cell_type": "code",
      "metadata": {
        "colab": {
          "base_uri": "https://localhost:8080/"
        },
        "id": "4iIz9M6E6ZMD",
        "outputId": "9391d9ad-f6ce-4b97-dafc-af90f777f3e0"
      },
      "source": [
        "# Main\n",
        "from sys import setrecursionlimit\n",
        "setrecursionlimit(11000)\n",
        "#n=int(input())\n",
        "arr=list(int(i) for i in input().strip().split(' '))\n",
        "\n",
        "x=int(input())\n",
        "print(firstIndex(arr, x))"
      ],
      "execution_count": 8,
      "outputs": [
        {
          "output_type": "stream",
          "text": [
            "22 44 66 88 99 33 55\n",
            "55\n",
            "6\n"
          ],
          "name": "stdout"
        }
      ]
    },
    {
      "cell_type": "code",
      "metadata": {
        "id": "cBa-HMuh6ZVl"
      },
      "source": [
        ""
      ],
      "execution_count": null,
      "outputs": []
    },
    {
      "cell_type": "code",
      "metadata": {
        "id": "sHrx6MYa5_CK"
      },
      "source": [
        ""
      ],
      "execution_count": null,
      "outputs": []
    }
  ]
}