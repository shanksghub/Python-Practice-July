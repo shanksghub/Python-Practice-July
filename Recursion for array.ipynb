{
  "nbformat": 4,
  "nbformat_minor": 0,
  "metadata": {
    "colab": {
      "name": "Untitled74.ipynb",
      "provenance": [],
      "authorship_tag": "ABX9TyObTBddGe04NMN1CtjmUhjS",
      "include_colab_link": true
    },
    "kernelspec": {
      "name": "python3",
      "display_name": "Python 3"
    },
    "language_info": {
      "name": "python"
    }
  },
  "cells": [
    {
      "cell_type": "markdown",
      "metadata": {
        "id": "view-in-github",
        "colab_type": "text"
      },
      "source": [
        "<a href=\"https://colab.research.google.com/github/shanksghub/Python-Practice-July/blob/main/Recursion%20for%20array.ipynb\" target=\"_parent\"><img src=\"https://colab.research.google.com/assets/colab-badge.svg\" alt=\"Open In Colab\"/></a>"
      ]
    },
    {
      "cell_type": "code",
      "metadata": {
        "id": "9PVjqnEkJ9ci"
      },
      "source": [
        "def fact(n):\n",
        "    if n == 0:\n",
        "        return 1\n",
        "    return n*fact(n-1)"
      ],
      "execution_count": 1,
      "outputs": []
    },
    {
      "cell_type": "code",
      "metadata": {
        "id": "rfJ0cWKAKA0_"
      },
      "source": [
        "def fact(n):\n",
        "    if n == 0:\n",
        "        return 1\n",
        "    smallOutput = fact(n-1)\n",
        "    return n*smallOutput"
      ],
      "execution_count": 2,
      "outputs": []
    },
    {
      "cell_type": "code",
      "metadata": {
        "id": "TySqukZHKDCQ"
      },
      "source": [
        "def fact(n):\n",
        "    if n == 0:\n",
        "        return 1\n",
        "    smallOutput = fact(n-1)\n",
        "    return n*smallOutput"
      ],
      "execution_count": 3,
      "outputs": []
    },
    {
      "cell_type": "code",
      "metadata": {
        "colab": {
          "base_uri": "https://localhost:8080/"
        },
        "id": "AIg619EiKIUF",
        "outputId": "c7f02be7-816d-400e-d0b3-b78beef1a93d"
      },
      "source": [
        " \n",
        "#Sum of 'n' natural numbers:\n",
        "def sum(n):\n",
        "    if n == 1:\n",
        "        return 1\n",
        "    return n + sum(n-1)\n",
        "\n",
        "n = int(input())\n",
        "sum(n)\n",
        "print(sum(n + 10))\n",
        "print(sum(n + 95))"
      ],
      "execution_count": 6,
      "outputs": [
        {
          "output_type": "stream",
          "text": [
            "5\n",
            "120\n",
            "5050\n"
          ],
          "name": "stdout"
        }
      ]
    },
    {
      "cell_type": "code",
      "metadata": {
        "colab": {
          "base_uri": "https://localhost:8080/"
        },
        "id": "Mr7PNxVYKUio",
        "outputId": "9b39ba90-06fa-4990-e829-bc3b591930e2"
      },
      "source": [
        "def sum(n):\n",
        "    if n == 1:\n",
        "        return 1\n",
        "    smallOutput = sum(n-1)\n",
        "    return n + smallOutput\n",
        "\n",
        "n = int(input())\n",
        "print(sum(n))\n",
        "print(fact(n))"
      ],
      "execution_count": 7,
      "outputs": [
        {
          "output_type": "stream",
          "text": [
            "5\n",
            "15\n",
            "120\n"
          ],
          "name": "stdout"
        }
      ]
    },
    {
      "cell_type": "code",
      "metadata": {
        "colab": {
          "base_uri": "https://localhost:8080/"
        },
        "id": "Z3AklczwKf4o",
        "outputId": "ab38dd8f-2035-4443-b887-4d3096c984e5"
      },
      "source": [
        "# Power of a number\n",
        "str = input().split()\n",
        "x, n = int(str[0]), int(str[1])\n",
        "\n",
        "\n",
        "def power(x,n):\n",
        "    if n == 0:\n",
        "    \n",
        "        return 1\n",
        "    power(x,n-1)\n",
        "    print(n)\n",
        "    x = x * x\n",
        "    \n",
        "print(power(x,n))"
      ],
      "execution_count": 15,
      "outputs": [
        {
          "output_type": "stream",
          "text": [
            "2 5\n",
            "1\n",
            "2\n",
            "3\n",
            "4\n",
            "5\n",
            "None\n"
          ],
          "name": "stdout"
        }
      ]
    },
    {
      "cell_type": "code",
      "metadata": {
        "id": "3mG4ZQs5KkUG"
      },
      "source": [
        ""
      ],
      "execution_count": null,
      "outputs": []
    },
    {
      "cell_type": "code",
      "metadata": {
        "colab": {
          "base_uri": "https://localhost:8080/",
          "height": 392
        },
        "id": "uHInB-pqKr2E",
        "outputId": "f0c62d4c-43d1-4381-ea3e-5e2e7b7c8b35"
      },
      "source": [
        "def func(num):\n",
        "    return func(num-1)\n",
        "num = 2\n",
        "ans = func(num-1)\n",
        "print(ans)\n"
      ],
      "execution_count": 19,
      "outputs": [
        {
          "output_type": "error",
          "ename": "RecursionError",
          "evalue": "ignored",
          "traceback": [
            "\u001b[0;31m---------------------------------------------------------------------------\u001b[0m",
            "\u001b[0;31mRecursionError\u001b[0m                            Traceback (most recent call last)",
            "\u001b[0;32m<ipython-input-19-37b0a90bbb42>\u001b[0m in \u001b[0;36m<module>\u001b[0;34m()\u001b[0m\n\u001b[1;32m      2\u001b[0m     \u001b[0;32mreturn\u001b[0m \u001b[0mfunc\u001b[0m\u001b[0;34m(\u001b[0m\u001b[0mnum\u001b[0m\u001b[0;34m-\u001b[0m\u001b[0;36m1\u001b[0m\u001b[0;34m)\u001b[0m\u001b[0;34m\u001b[0m\u001b[0;34m\u001b[0m\u001b[0m\n\u001b[1;32m      3\u001b[0m \u001b[0mnum\u001b[0m \u001b[0;34m=\u001b[0m \u001b[0;36m2\u001b[0m\u001b[0;34m\u001b[0m\u001b[0;34m\u001b[0m\u001b[0m\n\u001b[0;32m----> 4\u001b[0;31m \u001b[0mans\u001b[0m \u001b[0;34m=\u001b[0m \u001b[0mfunc\u001b[0m\u001b[0;34m(\u001b[0m\u001b[0mnum\u001b[0m\u001b[0;34m-\u001b[0m\u001b[0;36m1\u001b[0m\u001b[0;34m)\u001b[0m\u001b[0;34m\u001b[0m\u001b[0;34m\u001b[0m\u001b[0m\n\u001b[0m\u001b[1;32m      5\u001b[0m \u001b[0mprint\u001b[0m\u001b[0;34m(\u001b[0m\u001b[0mans\u001b[0m\u001b[0;34m)\u001b[0m\u001b[0;34m\u001b[0m\u001b[0;34m\u001b[0m\u001b[0m\n",
            "\u001b[0;32m<ipython-input-19-37b0a90bbb42>\u001b[0m in \u001b[0;36mfunc\u001b[0;34m(num)\u001b[0m\n\u001b[1;32m      1\u001b[0m \u001b[0;32mdef\u001b[0m \u001b[0mfunc\u001b[0m\u001b[0;34m(\u001b[0m\u001b[0mnum\u001b[0m\u001b[0;34m)\u001b[0m\u001b[0;34m:\u001b[0m\u001b[0;34m\u001b[0m\u001b[0;34m\u001b[0m\u001b[0m\n\u001b[0;32m----> 2\u001b[0;31m     \u001b[0;32mreturn\u001b[0m \u001b[0mfunc\u001b[0m\u001b[0;34m(\u001b[0m\u001b[0mnum\u001b[0m\u001b[0;34m-\u001b[0m\u001b[0;36m1\u001b[0m\u001b[0;34m)\u001b[0m\u001b[0;34m\u001b[0m\u001b[0;34m\u001b[0m\u001b[0m\n\u001b[0m\u001b[1;32m      3\u001b[0m \u001b[0mnum\u001b[0m \u001b[0;34m=\u001b[0m \u001b[0;36m2\u001b[0m\u001b[0;34m\u001b[0m\u001b[0;34m\u001b[0m\u001b[0m\n\u001b[1;32m      4\u001b[0m \u001b[0mans\u001b[0m \u001b[0;34m=\u001b[0m \u001b[0mfunc\u001b[0m\u001b[0;34m(\u001b[0m\u001b[0mnum\u001b[0m\u001b[0;34m-\u001b[0m\u001b[0;36m1\u001b[0m\u001b[0;34m)\u001b[0m\u001b[0;34m\u001b[0m\u001b[0;34m\u001b[0m\u001b[0m\n\u001b[1;32m      5\u001b[0m \u001b[0mprint\u001b[0m\u001b[0;34m(\u001b[0m\u001b[0mans\u001b[0m\u001b[0;34m)\u001b[0m\u001b[0;34m\u001b[0m\u001b[0;34m\u001b[0m\u001b[0m\n",
            "... last 1 frames repeated, from the frame below ...\n",
            "\u001b[0;32m<ipython-input-19-37b0a90bbb42>\u001b[0m in \u001b[0;36mfunc\u001b[0;34m(num)\u001b[0m\n\u001b[1;32m      1\u001b[0m \u001b[0;32mdef\u001b[0m \u001b[0mfunc\u001b[0m\u001b[0;34m(\u001b[0m\u001b[0mnum\u001b[0m\u001b[0;34m)\u001b[0m\u001b[0;34m:\u001b[0m\u001b[0;34m\u001b[0m\u001b[0;34m\u001b[0m\u001b[0m\n\u001b[0;32m----> 2\u001b[0;31m     \u001b[0;32mreturn\u001b[0m \u001b[0mfunc\u001b[0m\u001b[0;34m(\u001b[0m\u001b[0mnum\u001b[0m\u001b[0;34m-\u001b[0m\u001b[0;36m1\u001b[0m\u001b[0;34m)\u001b[0m\u001b[0;34m\u001b[0m\u001b[0;34m\u001b[0m\u001b[0m\n\u001b[0m\u001b[1;32m      3\u001b[0m \u001b[0mnum\u001b[0m \u001b[0;34m=\u001b[0m \u001b[0;36m2\u001b[0m\u001b[0;34m\u001b[0m\u001b[0;34m\u001b[0m\u001b[0m\n\u001b[1;32m      4\u001b[0m \u001b[0mans\u001b[0m \u001b[0;34m=\u001b[0m \u001b[0mfunc\u001b[0m\u001b[0;34m(\u001b[0m\u001b[0mnum\u001b[0m\u001b[0;34m-\u001b[0m\u001b[0;36m1\u001b[0m\u001b[0;34m)\u001b[0m\u001b[0;34m\u001b[0m\u001b[0;34m\u001b[0m\u001b[0m\n\u001b[1;32m      5\u001b[0m \u001b[0mprint\u001b[0m\u001b[0;34m(\u001b[0m\u001b[0mans\u001b[0m\u001b[0;34m)\u001b[0m\u001b[0;34m\u001b[0m\u001b[0;34m\u001b[0m\u001b[0m\n",
            "\u001b[0;31mRecursionError\u001b[0m: maximum recursion depth exceeded"
          ]
        }
      ]
    },
    {
      "cell_type": "code",
      "metadata": {
        "colab": {
          "base_uri": "https://localhost:8080/"
        },
        "id": "6TAyqQBRJrMc",
        "outputId": "7fa4c18c-3f1b-407c-d6d0-cf43b19cec51"
      },
      "source": [
        "# Results in Recursion Error\n",
        "# Print numbers from 1 to n\n",
        "def print_1_to_n(n):\n",
        "    if n == 0:\n",
        "        return n\n",
        "    print_1_to_n(n-1)\n",
        "    print(n)\n",
        "\n",
        "n = int(input())\n",
        "print_1_to_n(n)\n"
      ],
      "execution_count": 21,
      "outputs": [
        {
          "output_type": "stream",
          "text": [
            "55\n",
            "1\n",
            "2\n",
            "3\n",
            "4\n",
            "5\n",
            "6\n",
            "7\n",
            "8\n",
            "9\n",
            "10\n",
            "11\n",
            "12\n",
            "13\n",
            "14\n",
            "15\n",
            "16\n",
            "17\n",
            "18\n",
            "19\n",
            "20\n",
            "21\n",
            "22\n",
            "23\n",
            "24\n",
            "25\n",
            "26\n",
            "27\n",
            "28\n",
            "29\n",
            "30\n",
            "31\n",
            "32\n",
            "33\n",
            "34\n",
            "35\n",
            "36\n",
            "37\n",
            "38\n",
            "39\n",
            "40\n",
            "41\n",
            "42\n",
            "43\n",
            "44\n",
            "45\n",
            "46\n",
            "47\n",
            "48\n",
            "49\n",
            "50\n",
            "51\n",
            "52\n",
            "53\n",
            "54\n",
            "55\n"
          ],
          "name": "stdout"
        }
      ]
    },
    {
      "cell_type": "code",
      "metadata": {
        "colab": {
          "base_uri": "https://localhost:8080/"
        },
        "id": "vpaK483fOxE2",
        "outputId": "51202062-3a1d-4656-eed7-4c96b3a5c617"
      },
      "source": [
        "# Results in Recursion Error\n",
        "# Print numbers from 1 to n\n",
        "def print_1_to_n(n):\n",
        "    if n == 2:\n",
        "        return n\n",
        "    print_1_to_n(n-1)\n",
        "    print(n)\n",
        "\n",
        "n = int(input())\n",
        "print_1_to_n(n)\n"
      ],
      "execution_count": 26,
      "outputs": [
        {
          "output_type": "stream",
          "text": [
            "7\n",
            "3\n",
            "4\n",
            "5\n",
            "6\n",
            "7\n"
          ],
          "name": "stdout"
        }
      ]
    },
    {
      "cell_type": "code",
      "metadata": {
        "id": "S9ZLhcI1OtmF"
      },
      "source": [
        "\n"
      ],
      "execution_count": null,
      "outputs": []
    },
    {
      "cell_type": "code",
      "metadata": {
        "colab": {
          "base_uri": "https://localhost:8080/"
        },
        "id": "ndIgWQbpKbd9",
        "outputId": "a67ca6f5-53b2-4632-86ef-07cca0718638"
      },
      "source": [
        "def print_n_to_1(n):\n",
        "    if n == 0:\n",
        "        return n\n",
        "    print(n)\n",
        "    \n",
        "    print_n_to_1(n-1)\n",
        "    print(n)\n",
        "n = int(input())\n",
        "print_n_to_1(n)"
      ],
      "execution_count": 30,
      "outputs": [
        {
          "output_type": "stream",
          "text": [
            "8\n",
            "8\n",
            "7\n",
            "6\n",
            "5\n",
            "4\n",
            "3\n",
            "2\n",
            "1\n",
            "1\n",
            "2\n",
            "3\n",
            "4\n",
            "5\n",
            "6\n",
            "7\n",
            "8\n"
          ],
          "name": "stdout"
        }
      ]
    },
    {
      "cell_type": "code",
      "metadata": {
        "colab": {
          "base_uri": "https://localhost:8080/"
        },
        "id": "hpEG89cGRFzX",
        "outputId": "3888fe7f-015d-46b6-8a79-36ae00006b3f"
      },
      "source": [
        "def printNumber(n):\n",
        "    if(n<0):\n",
        "      return\n",
        "    print(n,end=\" \")\n",
        "    printNumbers(n-3)  \n",
        "\n",
        "num = 5\n",
        "printNumber(num)\n"
      ],
      "execution_count": 32,
      "outputs": [
        {
          "output_type": "stream",
          "text": [
            "5 2 0 "
          ],
          "name": "stdout"
        }
      ]
    },
    {
      "cell_type": "code",
      "metadata": {
        "colab": {
          "base_uri": "https://localhost:8080/"
        },
        "id": "4Z34-tlPR4Wd",
        "outputId": "94c99354-91f0-460f-8e0c-9cbbab6e573a"
      },
      "source": [
        "def printNumbers(n):\n",
        "    if(n<0):\n",
        "        return\n",
        "    print(n,end=\" \")\n",
        "    printNumbers(n-8)\n",
        "num = 56\n",
        "printNumbers(num)"
      ],
      "execution_count": 36,
      "outputs": [
        {
          "output_type": "stream",
          "text": [
            "56 48 40 32 24 16 8 0 "
          ],
          "name": "stdout"
        }
      ]
    },
    {
      "cell_type": "code",
      "metadata": {
        "colab": {
          "base_uri": "https://localhost:8080/"
        },
        "id": "_DalIoFWJpJB",
        "outputId": "4bcbae4b-3048-444b-e9fb-39270e24e365"
      },
      "source": [
        "# Predict the Output:\n",
        "def printNumbers(n):\n",
        "    if(n<0):\n",
        "        return\n",
        "    print(n,end=\" \")\n",
        "    printNumbers(n-2)\n",
        "num = 59\n",
        "printNumbers(num)"
      ],
      "execution_count": 41,
      "outputs": [
        {
          "output_type": "stream",
          "text": [
            "59 57 55 53 51 49 47 45 43 41 39 37 35 33 31 29 27 25 23 21 19 17 15 13 11 9 7 5 3 1 "
          ],
          "name": "stdout"
        }
      ]
    },
    {
      "cell_type": "code",
      "metadata": {
        "id": "_YK4I_8IWr5y"
      },
      "source": [
        ""
      ],
      "execution_count": null,
      "outputs": []
    },
    {
      "cell_type": "code",
      "metadata": {
        "id": "Oce8R6EVWr8g"
      },
      "source": [
        ""
      ],
      "execution_count": null,
      "outputs": []
    },
    {
      "cell_type": "code",
      "metadata": {
        "colab": {
          "base_uri": "https://localhost:8080/"
        },
        "id": "lKKnm3x5Wr_S",
        "outputId": "d589ef3e-eeee-4022-9561-ba739bc00b12"
      },
      "source": [
        "def fib(n):\n",
        "    if n == 1 or n == 2:\n",
        "        return 1  \n",
        "    fib_n_1 = fib(n-1)\n",
        "    fib_n_2 = fib(n-2)\n",
        "    return fib_n_1 + fib_n_2\n",
        "n = int(input())\n",
        "print(fib(n))"
      ],
      "execution_count": 45,
      "outputs": [
        {
          "output_type": "stream",
          "text": [
            "8\n",
            "21\n"
          ],
          "name": "stdout"
        }
      ]
    },
    {
      "cell_type": "code",
      "metadata": {
        "id": "Og3SP5V2cS7A"
      },
      "source": [
        "def fib(n):\n",
        "    if n == 1 or n == 2:\n",
        "        return 1  \n",
        "    return fib(n-1) + fib(n-2)\n"
      ],
      "execution_count": 46,
      "outputs": []
    },
    {
      "cell_type": "code",
      "metadata": {
        "colab": {
          "base_uri": "https://localhost:8080/"
        },
        "id": "7b263SnkcZOi",
        "outputId": "18660741-46cb-45fb-c5a2-09bd43981b62"
      },
      "source": [
        "fib(10)"
      ],
      "execution_count": 48,
      "outputs": [
        {
          "output_type": "execute_result",
          "data": {
            "text/plain": [
              "55"
            ]
          },
          "metadata": {
            "tags": []
          },
          "execution_count": 48
        }
      ]
    },
    {
      "cell_type": "code",
      "metadata": {
        "colab": {
          "base_uri": "https://localhost:8080/"
        },
        "id": "iZXO02PCZ-bg",
        "outputId": "2346edbf-c938-40d3-b08e-9b4c55280d1d"
      },
      "source": [
        "\n",
        "# Predict the output:\n",
        "def fun(n):\n",
        "    if(n == 5):\n",
        "        return n\n",
        "    else:\n",
        "        return 2*fun(n+1)\n",
        "\n",
        "print(fun(3))"
      ],
      "execution_count": 56,
      "outputs": [
        {
          "output_type": "stream",
          "text": [
            "20\n"
          ],
          "name": "stdout"
        }
      ]
    },
    {
      "cell_type": "code",
      "metadata": {
        "id": "iE-2gLgyipbg"
      },
      "source": [
        "import sys"
      ],
      "execution_count": 70,
      "outputs": []
    },
    {
      "cell_type": "code",
      "metadata": {
        "id": "_T89hkEOim4M"
      },
      "source": [
        "sys.setrecursionlimit(700)"
      ],
      "execution_count": 85,
      "outputs": []
    },
    {
      "cell_type": "code",
      "metadata": {
        "colab": {
          "base_uri": "https://localhost:8080/"
        },
        "id": "E6qT1ohzhuJc",
        "outputId": "999207a3-0de2-4733-980b-6bac68cdf5d7"
      },
      "source": [
        "def fact(n):\n",
        "    if n == 0:\n",
        "        return 1\n",
        "    return n*fact(n-1)\n",
        "\n",
        "n = int(input())\n",
        "fact(n)"
      ],
      "execution_count": 87,
      "outputs": [
        {
          "output_type": "stream",
          "text": [
            "660\n"
          ],
          "name": "stdout"
        },
        {
          "output_type": "execute_result",
          "data": {
            "text/plain": [
              "11845574776103298668108996611464848941298114758752849955839899515943785936771277621868784031678851459697654158282068706909975320139600711043510969878851972867066637303859577102038629568864882113293677344271316754018351837011502130166812019953728371406583077111886117124196679437327967894798492878091517527904897031301318471314068480796311216464897234263828412545873076852790938835071294503481398081099412367241392499753809336438649992401239586812557779801969810567427415991816845995811640903411979393564066599544489657501447345506097125501037541255747083353753120317093245357599088384362811902460071043770732742013992536480470054053470103110958527864437221135549299946446319494649496733919890283565355360299168901781924547763289047904411317614163944638144348223145490780868328810569444173295524788962414031056752375442360538877278515963062240944551434852522753811947333108125989633115672734628274290447316059377212464564148289803390769483690103865432900808757585095826298459650438233516829963370763155702864049973342431581183674213958886327100648926325991510275259029660497949026093510724545537389973667088676775821278080867834001636329617480050127168053134310689166368637382697256840586579853078069289654376516816671460186607862120454205799904478594303723445114003124732645560181279807690863096786890131788377994499915662688651944291697561432048501119068048064439273880590420058509604539548657873962517356819251200000000000000000000000000000000000000000000000000000000000000000000000000000000000000000000000000000000000000000000000000000000000000000000000000000000000000000000"
            ]
          },
          "metadata": {
            "tags": []
          },
          "execution_count": 87
        }
      ]
    },
    {
      "cell_type": "code",
      "metadata": {
        "id": "HSK9EnEph7Pd"
      },
      "source": [
        "import sys\n",
        "sys.setrecursionlimit(333)"
      ],
      "execution_count": 62,
      "outputs": []
    },
    {
      "cell_type": "code",
      "metadata": {
        "id": "Ni8mmCgFvvRt"
      },
      "source": [
        ""
      ],
      "execution_count": null,
      "outputs": []
    },
    {
      "cell_type": "code",
      "metadata": {
        "colab": {
          "base_uri": "https://localhost:8080/"
        },
        "id": "aWJUPjhivvVI",
        "outputId": "dc0a8f71-6647-4c0a-84ff-6e5c48735f85"
      },
      "source": [
        "\n",
        "def isSorted(a):\n",
        "    l = len(a)\n",
        "    if l == 0 or l == 1:\n",
        "        return \"True\"\n",
        "    \n",
        "    if a[0] > a[1]:\n",
        "        return False\n",
        "    \n",
        "    smallerList = a[1:]\n",
        "    isSmallerListSorted = isSorted(smallerList)    # b = a[1:]\n",
        "    # return isSmallerListSorted\n",
        "    if isSmallerListSorted:\n",
        "        return True\n",
        "    else:\n",
        "        return False\n",
        "\n",
        "list = input().split()\n",
        "isSorted(list)\n"
      ],
      "execution_count": 105,
      "outputs": [
        {
          "output_type": "stream",
          "text": [
            "1 2 3\n"
          ],
          "name": "stdout"
        },
        {
          "output_type": "execute_result",
          "data": {
            "text/plain": [
              "True"
            ]
          },
          "metadata": {
            "tags": []
          },
          "execution_count": 105
        }
      ]
    },
    {
      "cell_type": "code",
      "metadata": {
        "id": "9B3PRmwov5S-"
      },
      "source": [
        "def isSorted(a):\n",
        "  l = len(a)\n",
        "  if l == 0 or l == 1:\n",
        "      return \"Faldsse\"\n",
        "\n",
        "  if a[0] > a[1]:\n",
        "    return False\n",
        "\n",
        "  smallerList = a[1:]\n",
        "  isSmallerListSorted = isSorted(smallerList)\n",
        "\n",
        "  if isSmallerListSorted: \n",
        "    return \"True\"\n",
        "\n",
        "  else:\n",
        "    return False  \n",
        "\n"
      ],
      "execution_count": 113,
      "outputs": []
    },
    {
      "cell_type": "code",
      "metadata": {
        "colab": {
          "base_uri": "https://localhost:8080/"
        },
        "id": "yBwfJjxnxwhk",
        "outputId": "a1dba16d-f0bb-4ee8-c731-874247b5ddfb"
      },
      "source": [
        "list = input().split()\n",
        "\n"
      ],
      "execution_count": 127,
      "outputs": [
        {
          "output_type": "stream",
          "text": [
            "2 4 5 7\n"
          ],
          "name": "stdout"
        }
      ]
    },
    {
      "cell_type": "code",
      "metadata": {
        "colab": {
          "base_uri": "https://localhost:8080/"
        },
        "id": "SYFV8i1M0ZEs",
        "outputId": "3d65ba18-d472-4191-b9a9-f8467f8f9a64"
      },
      "source": [
        "len(list)"
      ],
      "execution_count": 128,
      "outputs": [
        {
          "output_type": "execute_result",
          "data": {
            "text/plain": [
              "4"
            ]
          },
          "metadata": {
            "tags": []
          },
          "execution_count": 128
        }
      ]
    },
    {
      "cell_type": "code",
      "metadata": {
        "colab": {
          "base_uri": "https://localhost:8080/",
          "height": 37
        },
        "id": "oqZjzOF7x2yi",
        "outputId": "8417705f-c4a8-4b82-8cd8-de9ba3329a4b"
      },
      "source": [
        "isSorted(list)"
      ],
      "execution_count": 121,
      "outputs": [
        {
          "output_type": "execute_result",
          "data": {
            "application/vnd.google.colaboratory.intrinsic+json": {
              "type": "string"
            },
            "text/plain": [
              "'Faldsse'"
            ]
          },
          "metadata": {
            "tags": []
          },
          "execution_count": 121
        }
      ]
    },
    {
      "cell_type": "code",
      "metadata": {
        "id": "Y8MYMJN_y_JJ"
      },
      "source": [
        ""
      ],
      "execution_count": null,
      "outputs": []
    },
    {
      "cell_type": "code",
      "metadata": {
        "id": "59leeGbny_Uq"
      },
      "source": [
        "def isSortedBetter(a,si):\n",
        "    l = len(a)\n",
        "    if si == l-1 or si == l:\n",
        "        return True\n",
        "\n",
        "    if a[si] > a[si+1]:\n",
        "        return False\n",
        "    isSmallerPartSorted = isSortedBetter(a, si + 1)\n",
        "    return isSmallerPartSorted\n",
        " "
      ],
      "execution_count": 139,
      "outputs": []
    },
    {
      "cell_type": "code",
      "metadata": {
        "colab": {
          "base_uri": "https://localhost:8080/"
        },
        "id": "6fNzb6co1C-u",
        "outputId": "3b6eb770-aad1-49e3-9e4d-71d479436ea3"
      },
      "source": [
        "a = [1,2,3,5,6,744,8,9,7]\n",
        "b = []\n",
        "isSortedBetter(a, 3)\n"
      ],
      "execution_count": 141,
      "outputs": [
        {
          "output_type": "execute_result",
          "data": {
            "text/plain": [
              "False"
            ]
          },
          "metadata": {
            "tags": []
          },
          "execution_count": 141
        }
      ]
    },
    {
      "cell_type": "code",
      "metadata": {
        "id": "j-UPef6W7Hrh"
      },
      "source": [
        ""
      ],
      "execution_count": null,
      "outputs": []
    },
    {
      "cell_type": "code",
      "metadata": {
        "colab": {
          "base_uri": "https://localhost:8080/"
        },
        "id": "lUDYJRFA7JT3",
        "outputId": "8bdbef39-88d0-46ea-d85b-31f1e7542dfd"
      },
      "source": [
        "def sumArray(arr): \n",
        "  print(type(arr)) \n",
        "  print(arr)\n",
        "  if len(arr) == 0:\n",
        "    return 0\n",
        "  else:\n",
        "    return arr[0] + sumArray(arr[1:])\n",
        "    \n",
        "\n",
        "from sys import setrecursionlimit\n",
        "setrecursionlimit(11000)\n",
        "n=int(input())\n",
        "arr=list(int(i) for i in input().strip().split(' '))\n",
        "print(sumArray(arr))\n",
        "print(arr)"
      ],
      "execution_count": 4,
      "outputs": [
        {
          "output_type": "stream",
          "text": [
            "546\n",
            "567\n",
            "<class 'list'>\n",
            "[567]\n",
            "<class 'list'>\n",
            "[]\n",
            "567\n",
            "[567]\n"
          ],
          "name": "stdout"
        }
      ]
    },
    {
      "cell_type": "code",
      "metadata": {
        "id": "sOujLXjN2VPB"
      },
      "source": [
        ""
      ],
      "execution_count": null,
      "outputs": []
    },
    {
      "cell_type": "code",
      "metadata": {
        "id": "BmhCtFML2VSR"
      },
      "source": [
        ""
      ],
      "execution_count": null,
      "outputs": []
    }
  ]
}