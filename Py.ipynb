{
  "nbformat": 4,
  "nbformat_minor": 0,
  "metadata": {
    "colab": {
      "name": "Untitled67.ipynb",
      "provenance": [],
      "authorship_tag": "ABX9TyM5e5dehmOxuh78dklWxgGk",
      "include_colab_link": true
    },
    "kernelspec": {
      "name": "python3",
      "display_name": "Python 3"
    },
    "language_info": {
      "name": "python"
    }
  },
  "cells": [
    {
      "cell_type": "markdown",
      "metadata": {
        "id": "view-in-github",
        "colab_type": "text"
      },
      "source": [
        "<a href=\"https://colab.research.google.com/github/shanksghub/Python-Practice-July/blob/main/Py.ipynb\" target=\"_parent\"><img src=\"https://colab.research.google.com/assets/colab-badge.svg\" alt=\"Open In Colab\"/></a>"
      ]
    },
    {
      "cell_type": "code",
      "metadata": {
        "colab": {
          "base_uri": "https://localhost:8080/"
        },
        "id": "1OI7GFqgcJTW",
        "outputId": "7b79a8ab-369a-4018-8e91-2f5a6f14695c"
      },
      "source": [
        "for i in range(2000,3201):\n",
        "  if i%7 == 0 and i%5!=0:\n",
        "    print(i,end=',')\n",
        "print(\"\\b\")\n"
      ],
      "execution_count": 2,
      "outputs": [
        {
          "output_type": "stream",
          "text": [
            "2002,2009,2016,2023,2037,2044,2051,2058,2072,2079,2086,2093,2107,2114,2121,2128,2142,2149,2156,2163,2177,2184,2191,2198,2212,2219,2226,2233,2247,2254,2261,2268,2282,2289,2296,2303,2317,2324,2331,2338,2352,2359,2366,2373,2387,2394,2401,2408,2422,2429,2436,2443,2457,2464,2471,2478,2492,2499,2506,2513,2527,2534,2541,2548,2562,2569,2576,2583,2597,2604,2611,2618,2632,2639,2646,2653,2667,2674,2681,2688,2702,2709,2716,2723,2737,2744,2751,2758,2772,2779,2786,2793,2807,2814,2821,2828,2842,2849,2856,2863,2877,2884,2891,2898,2912,2919,2926,2933,2947,2954,2961,2968,2982,2989,2996,3003,3017,3024,3031,3038,3052,3059,3066,3073,3087,3094,3101,3108,3122,3129,3136,3143,3157,3164,3171,3178,3192,3199,\b\n",
            "2002,2009,2016,2023,2037,2044,2051,2058,2072,2079,2086,2093,2107,2114,2121,2128,2142,2149,2156,2163,2177,2184,2191,2198,2212,2219,2226,2233,2247,2254,2261,2268,2282,2289,2296,2303,2317,2324,2331,2338,2352,2359,2366,2373,2387,2394,2401,2408,2422,2429,2436,2443,2457,2464,2471,2478,2492,2499,2506,2513,2527,2534,2541,2548,2562,2569,2576,2583,2597,2604,2611,2618,2632,2639,2646,2653,2667,2674,2681,2688,2702,2709,2716,2723,2737,2744,2751,2758,2772,2779,2786,2793,2807,2814,2821,2828,2842,2849,2856,2863,2877,2884,2891,2898,2912,2919,2926,2933,2947,2954,2961,2968,2982,2989,2996,3003,3017,3024,3031,3038,3052,3059,3066,3073,3087,3094,3101,3108,3122,3129,3136,3143,3157,3164,3171,3178,3192,3199\n"
          ],
          "name": "stdout"
        }
      ]
    },
    {
      "cell_type": "code",
      "metadata": {
        "id": "MFnEijUB4SIX"
      },
      "source": [
        "\n",
        "#!/usr/bin/env python\n",
        "# -*- coding: utf-8 -*-\n",
        "\n",
        "'''\n",
        "Exercise\n",
        "Create a program that asks the user to enter their name and their age. \n",
        "Print out a message addressed to them that tells them the year that they will turn 100 years old.\n",
        "'''\n",
        "\n",
        "\n",
        "import datetime\n",
        "\n",
        "while True:\n",
        "    name = input(\"Name：\")\n",
        "    age = int(input(\"age：\"))\n",
        "\n",
        "    now = datetime.datetime.now()\n",
        "\n",
        "    this_year = now.year\n",
        "\n",
        "    print(name + \"The year they turn 100  \" + str(this_year - age + 100) + \" shown before\")\n",
        "    print()\n",
        "    in_program = input(\"is this age in 100 years：\")\n",
        "\n",
        "    if in_program == '0':\n",
        "        break\n",
        "\n",
        "\n",
        "\n",
        "\n",
        "#!/usr/bin/env python\n",
        "# -*- coding: utf-8 -*-\n",
        "\n",
        "'''\n",
        "Exercise\n",
        "Create a program that asks the user to enter their name and their age. \n",
        "Print out a message addressed to them that tells them the year that they will turn 100 years old.\n",
        "'''\n",
        "\n",
        "\n",
        "import datetime\n",
        "\n",
        "while True:\n",
        "    name = input(\"Name：\")\n",
        "    age = int(input(\"age：\"))\n",
        "\n",
        "    now = datetime.datetime.now()\n",
        "\n",
        "    this_year = now.year\n",
        "\n",
        "    print(name + \"The year they turn 100  \" + str(this_year - age + 100) + \" shown before\")\n",
        "    print()\n",
        "    in_program = input(\"is this age in 100 years：\")\n",
        "\n",
        "    if in_program == '0':\n",
        "        break\n",
        "\n"
      ],
      "execution_count": null,
      "outputs": []
    },
    {
      "cell_type": "code",
      "metadata": {
        "id": "lV4fJUPK4Shx"
      },
      "source": [
        ""
      ],
      "execution_count": null,
      "outputs": []
    },
    {
      "cell_type": "code",
      "metadata": {
        "id": "fNzShU-14Smq"
      },
      "source": [
        ""
      ],
      "execution_count": null,
      "outputs": []
    },
    {
      "cell_type": "code",
      "metadata": {
        "id": "46wVLwm34Sp2"
      },
      "source": [
        ""
      ],
      "execution_count": null,
      "outputs": []
    },
    {
      "cell_type": "code",
      "metadata": {
        "id": "Y2Mj2KtX4Ste"
      },
      "source": [
        ""
      ],
      "execution_count": null,
      "outputs": []
    },
    {
      "cell_type": "code",
      "metadata": {
        "colab": {
          "base_uri": "https://localhost:8080/"
        },
        "id": "ThE_ypGzdYSO",
        "outputId": "b5b55249-d32f-4a02-8ab3-2b57898fcfdc"
      },
      "source": [
        "for u in range(18,200):\n",
        "  if u%2 ==0 and u%5!=0:\n",
        "    print(u,end=',')\n",
        "\n",
        "print(\"\\b\")\n"
      ],
      "execution_count": 11,
      "outputs": [
        {
          "output_type": "stream",
          "text": [
            "18,22,24,26,28,32,34,36,38,42,44,46,48,52,54,56,58,62,64,66,68,72,74,76,78,82,84,86,88,92,94,96,98,102,104,106,108,112,114,116,118,122,124,126,128,132,134,136,138,142,144,146,148,152,154,156,158,162,164,166,168,172,174,176,178,182,184,186,188,192,194,196,198,"
          ],
          "name": "stdout"
        }
      ]
    },
    {
      "cell_type": "code",
      "metadata": {
        "id": "3d8de9kXcWcz"
      },
      "source": [
        "print(*(i for i in range(2000, 3201) if i%7 == 0 and i%5 != 0), sep=\",\")"
      ],
      "execution_count": null,
      "outputs": []
    },
    {
      "cell_type": "code",
      "metadata": {
        "colab": {
          "base_uri": "https://localhost:8080/"
        },
        "id": "GDm-kFJCeIbJ",
        "outputId": "68bae3aa-8788-4fc7-bfc2-f0cb85ac4fa0"
      },
      "source": [
        "print(*[u for u in range(80,800) if u%5 ==0 and u%10 !=0], sep=\",\")"
      ],
      "execution_count": 18,
      "outputs": [
        {
          "output_type": "stream",
          "text": [
            "85,95,105,115,125,135,145,155,165,175,185,195,205,215,225,235,245,255,265,275,285,295,305,315,325,335,345,355,365,375,385,395,405,415,425,435,445,455,465,475,485,495,505,515,525,535,545,555,565,575,585,595,605,615,625,635,645,655,665,675,685,695,705,715,725,735,745,755,765,775,785,795\n"
          ],
          "name": "stdout"
        }
      ]
    },
    {
      "cell_type": "code",
      "metadata": {
        "colab": {
          "base_uri": "https://localhost:8080/"
        },
        "id": "vrEsAkaQfYok",
        "outputId": "f7e09f12-feaa-4fe3-e448-55df58b8bc2f"
      },
      "source": [
        "l=[]\n",
        "for i in range(2000, 3201):\n",
        "    if (i%7==0) and (i%5!=0):\n",
        "        l.append(str(i))\n",
        "\n",
        "print(',h'.join(l))"
      ],
      "execution_count": 4,
      "outputs": [
        {
          "output_type": "stream",
          "text": [
            "2002,h2009,h2016,h2023,h2037,h2044,h2051,h2058,h2072,h2079,h2086,h2093,h2107,h2114,h2121,h2128,h2142,h2149,h2156,h2163,h2177,h2184,h2191,h2198,h2212,h2219,h2226,h2233,h2247,h2254,h2261,h2268,h2282,h2289,h2296,h2303,h2317,h2324,h2331,h2338,h2352,h2359,h2366,h2373,h2387,h2394,h2401,h2408,h2422,h2429,h2436,h2443,h2457,h2464,h2471,h2478,h2492,h2499,h2506,h2513,h2527,h2534,h2541,h2548,h2562,h2569,h2576,h2583,h2597,h2604,h2611,h2618,h2632,h2639,h2646,h2653,h2667,h2674,h2681,h2688,h2702,h2709,h2716,h2723,h2737,h2744,h2751,h2758,h2772,h2779,h2786,h2793,h2807,h2814,h2821,h2828,h2842,h2849,h2856,h2863,h2877,h2884,h2891,h2898,h2912,h2919,h2926,h2933,h2947,h2954,h2961,h2968,h2982,h2989,h2996,h3003,h3017,h3024,h3031,h3038,h3052,h3059,h3066,h3073,h3087,h3094,h3101,h3108,h3122,h3129,h3136,h3143,h3157,h3164,h3171,h3178,h3192,h3199\n"
          ],
          "name": "stdout"
        }
      ]
    },
    {
      "cell_type": "code",
      "metadata": {
        "id": "RzKydiDA5J2t"
      },
      "source": [
        "def fact(x):\n",
        "    if x == 0:\n",
        "        return 1\n",
        "    return x * fact(x - 1)\n",
        "\n",
        "x = int(raw_input())\n",
        "print fact(x)"
      ],
      "execution_count": null,
      "outputs": []
    },
    {
      "cell_type": "code",
      "metadata": {
        "colab": {
          "base_uri": "https://localhost:8080/"
        },
        "id": "AUlgYiuT5h0t",
        "outputId": "bc4be74d-782f-4dd1-9254-a3bbf242f2c7"
      },
      "source": [
        "def fact(c):\n",
        "  if c==0:\n",
        "    return 1\n",
        "  return c*fact(c-1)\n",
        "\n",
        "c =int(input())\n",
        "print(fact(c))  \n"
      ],
      "execution_count": 8,
      "outputs": [
        {
          "output_type": "stream",
          "text": [
            "20\n",
            "2432902008176640000\n"
          ],
          "name": "stdout"
        }
      ]
    },
    {
      "cell_type": "code",
      "metadata": {
        "colab": {
          "base_uri": "https://localhost:8080/"
        },
        "id": "DESzV-X_6Dsi",
        "outputId": "04f44b64-fbf5-47cd-a245-e790df82c58c"
      },
      "source": [
        "n = int(input()) #input() function takes input as string type\n",
        "                 #int() converts it to integer type\n",
        "fact = 1\n",
        "i = 1\n",
        "while i <= n:\n",
        "    fact = fact * i;\n",
        "    i = i + 1\n",
        "print(fact)"
      ],
      "execution_count": 11,
      "outputs": [
        {
          "output_type": "stream",
          "text": [
            "3\n",
            "6\n"
          ],
          "name": "stdout"
        }
      ]
    },
    {
      "cell_type": "code",
      "metadata": {
        "colab": {
          "base_uri": "https://localhost:8080/"
        },
        "id": "_D8aEwio6jBU",
        "outputId": "c792dbe0-5bb0-4be5-d73c-6e5c689c1d2a"
      },
      "source": [
        "#Using For Loop\n",
        "\n",
        "n = int(input()) #input() function takes input as string type\n",
        "                #int() converts it to integer type\n",
        "fact = 1\n",
        "for i in range(1,n+1):\n",
        "    fact = fact * i\n",
        "print(fact)"
      ],
      "execution_count": 13,
      "outputs": [
        {
          "output_type": "stream",
          "text": [
            "5\n",
            "120\n"
          ],
          "name": "stdout"
        }
      ]
    },
    {
      "cell_type": "code",
      "metadata": {
        "colab": {
          "base_uri": "https://localhost:8080/"
        },
        "id": "P6iE56Uw_z0Z",
        "outputId": "1ccdec31-9776-46f8-9153-046e011d5991"
      },
      "source": [
        "n = int(input())\n",
        "def shortFact(x):4 return 1 if x <= 1 else x*shortFact(x-1)\n",
        "print(shortFact(n))"
      ],
      "execution_count": 16,
      "outputs": [
        {
          "output_type": "stream",
          "text": [
            "4\n",
            "24\n"
          ],
          "name": "stdout"
        }
      ]
    },
    {
      "cell_type": "code",
      "metadata": {
        "colab": {
          "base_uri": "https://localhost:8080/"
        },
        "id": "y27RXxRyATdO",
        "outputId": "c7c7b355-9fed-4fa0-8204-abf0636f99bc"
      },
      "source": [
        "f = int(input())\n",
        "def factorial(f): return 1 if f <=1 else f*factorial(f-1)\n",
        "print(factorial(f))"
      ],
      "execution_count": 20,
      "outputs": [
        {
          "output_type": "stream",
          "text": [
            "3\n",
            "6\n"
          ],
          "name": "stdout"
        }
      ]
    },
    {
      "cell_type": "code",
      "metadata": {
        "id": "cTQdedSfByh9"
      },
      "source": [
        ""
      ],
      "execution_count": null,
      "outputs": []
    },
    {
      "cell_type": "code",
      "metadata": {
        "colab": {
          "base_uri": "https://localhost:8080/"
        },
        "id": "h4-TGcVh4Rxk",
        "outputId": "16aed73d-4aaf-4bfe-b2bd-3afae796c356"
      },
      "source": [
        "while True:\n",
        "  try:\n",
        "    num = int(input(\"Enter a number: \"))\n",
        "    break\n",
        "  except ValueError as err:\n",
        "    print(err)"
      ],
      "execution_count": 28,
      "outputs": [
        {
          "output_type": "stream",
          "text": [
            "Enter a number: 5\n"
          ],
          "name": "stdout"
        }
      ]
    },
    {
      "cell_type": "code",
      "metadata": {
        "colab": {
          "base_uri": "https://localhost:8080/"
        },
        "id": "CxUhADwDBLlQ",
        "outputId": "52ca25f3-19ae-4d84-efea-ff38a689b4f1"
      },
      "source": [
        "org = num\n",
        "fact = 1\n",
        "while num:\n",
        "    fact = num * fact\n",
        "    num = num - 1\n",
        "print(f'the factorial of {org} is {fact}')\n"
      ],
      "execution_count": 29,
      "outputs": [
        {
          "output_type": "stream",
          "text": [
            "the factorial of 5 is 120\n"
          ],
          "name": "stdout"
        }
      ]
    },
    {
      "cell_type": "code",
      "metadata": {
        "id": "SmZ0-6wVB-cN"
      },
      "source": [
        ""
      ],
      "execution_count": null,
      "outputs": []
    },
    {
      "cell_type": "code",
      "metadata": {
        "colab": {
          "base_uri": "https://localhost:8080/"
        },
        "id": "UuKpPUrWB81K",
        "outputId": "c5ad1b66-d3b5-46a5-c2df-704e2ef97633"
      },
      "source": [
        "while True:\n",
        "  try:\n",
        "    n = int(input(\"Enter a no. : \"))\n",
        "    break\n",
        "  except ValueError as haha:\n",
        "    print(haha)  "
      ],
      "execution_count": 65,
      "outputs": [
        {
          "output_type": "stream",
          "text": [
            "Enter a no. : 6\n"
          ],
          "name": "stdout"
        }
      ]
    },
    {
      "cell_type": "code",
      "metadata": {
        "colab": {
          "base_uri": "https://localhost:8080/"
        },
        "id": "NeK0fSWmwf0x",
        "outputId": "53db82d4-bbaa-4c61-e1a5-7217a7fcc2c4"
      },
      "source": [
        "o = n\n",
        "f = 1\n",
        "while n:\n",
        "  f = n * f\n",
        "  n = n - 1\n",
        "print(f'the f of {o} is {f}')  "
      ],
      "execution_count": 37,
      "outputs": [
        {
          "output_type": "stream",
          "text": [
            "the f of 5 is 120\n"
          ],
          "name": "stdout"
        }
      ]
    },
    {
      "cell_type": "code",
      "metadata": {
        "id": "lXFeGkD2C_cI"
      },
      "source": [
        ""
      ],
      "execution_count": null,
      "outputs": []
    },
    {
      "cell_type": "code",
      "metadata": {
        "colab": {
          "base_uri": "https://localhost:8080/"
        },
        "id": "8RgmUnFNC_es",
        "outputId": "3141885a-0fef-430b-d12b-176355eb2369"
      },
      "source": [
        "from functools import reduce\n",
        "\n",
        "def fun(acc, item):\n",
        "\treturn acc*item\n",
        "\n",
        "num = int(input())\n",
        "print(reduce(fun,range(1, num+1), 1))"
      ],
      "execution_count": 38,
      "outputs": [
        {
          "output_type": "stream",
          "text": [
            "3\n",
            "6\n"
          ],
          "name": "stdout"
        }
      ]
    },
    {
      "cell_type": "code",
      "metadata": {
        "colab": {
          "base_uri": "https://localhost:8080/"
        },
        "id": "MHQB1TZzC_iD",
        "outputId": "6d4ea939-017c-4c6d-9e1f-5a111aee0030"
      },
      "source": [
        " \n",
        "# importing functools for reduce()\n",
        "import functools\n",
        " \n",
        "# initializing list\n",
        "lis = [1, 3, 5, 6]\n",
        " \n",
        "# using reduce to compute sum of list\n",
        "print(\"The sum of the list elements is : \", end=\"\")\n",
        "print(functools.reduce(lambda a, b: a+b, lis))\n",
        " \n",
        "# using reduce to compute maximum element from list\n",
        "print(\"The maximum element of the list is : \", end=\"\")\n",
        "print(functools.reduce(lambda a, b: a if a > b else b, lis))\n"
      ],
      "execution_count": 42,
      "outputs": [
        {
          "output_type": "stream",
          "text": [
            "The sum of the list elements is : 15\n",
            "The maximum element of the list is : 6\n"
          ],
          "name": "stdout"
        }
      ]
    },
    {
      "cell_type": "code",
      "metadata": {
        "colab": {
          "base_uri": "https://localhost:8080/"
        },
        "id": "uRwvn2SwG2UB",
        "outputId": "527de829-8bbe-4351-9780-76c4371ce317"
      },
      "source": [
        "from functools import reduce\n",
        "\n",
        "def fun(acc, item):\n",
        "\treturn acc*item\n",
        "\n",
        "num = int(input())\n",
        "print(reduce(fun,range(1, num+1),10))\n"
      ],
      "execution_count": 92,
      "outputs": [
        {
          "output_type": "stream",
          "text": [
            "4\n",
            "240\n"
          ],
          "name": "stdout"
        }
      ]
    },
    {
      "cell_type": "code",
      "metadata": {
        "colab": {
          "base_uri": "https://localhost:8080/"
        },
        "id": "ij6JqH6SL2_4",
        "outputId": "6e17d1f3-8842-40ef-b40f-eb3efbbff998"
      },
      "source": [
        "i = int(input())\n",
        "f = dict()\n",
        "for n in range(2,i+3):\n",
        "  f[n] = n*n\n",
        "print(f)  "
      ],
      "execution_count": 53,
      "outputs": [
        {
          "output_type": "stream",
          "text": [
            "5\n",
            "{2: 4, 3: 9, 4: 16, 5: 25, 6: 36, 7: 49}\n"
          ],
          "name": "stdout"
        }
      ]
    },
    {
      "cell_type": "code",
      "metadata": {
        "colab": {
          "base_uri": "https://localhost:8080/"
        },
        "id": "fpC27VSDMX2B",
        "outputId": "a387145d-a076-41e5-f96b-28c82c7a987b"
      },
      "source": [
        "n = int(input())\n",
        "ans = {}\n",
        "for i in range (1,n+1):\n",
        "    ans[i] = i * i\n",
        "print(ans)"
      ],
      "execution_count": 54,
      "outputs": [
        {
          "output_type": "stream",
          "text": [
            "5\n",
            "{1: 1, 2: 4, 3: 9, 4: 16, 5: 25}\n"
          ],
          "name": "stdout"
        }
      ]
    },
    {
      "cell_type": "code",
      "metadata": {
        "colab": {
          "base_uri": "https://localhost:8080/"
        },
        "id": "3xIGotp1NKtr",
        "outputId": "62e3bb36-1954-458f-d2f6-d4fbb0bed57c"
      },
      "source": [
        "m = int(input())\n",
        "a = {}\n",
        "for i in range(2,m+2):\n",
        "    a[i]= i*i\n",
        "print(a)    "
      ],
      "execution_count": 60,
      "outputs": [
        {
          "output_type": "stream",
          "text": [
            "4\n",
            "{2: 4, 3: 9, 4: 16, 5: 25}\n"
          ],
          "name": "stdout"
        }
      ]
    },
    {
      "cell_type": "code",
      "metadata": {
        "colab": {
          "base_uri": "https://localhost:8080/"
        },
        "id": "N04JTgXvNov2",
        "outputId": "cbf9d08c-3bd2-4560-d150-cb3b70928668"
      },
      "source": [
        "n = int(input())\n",
        "a = {i : i*i for i in range(1,n+1)}\n",
        "print(a)"
      ],
      "execution_count": 61,
      "outputs": [
        {
          "output_type": "stream",
          "text": [
            "5\n",
            "{1: 1, 2: 4, 3: 9, 4: 16, 5: 25}\n"
          ],
          "name": "stdout"
        }
      ]
    },
    {
      "cell_type": "code",
      "metadata": {
        "colab": {
          "base_uri": "https://localhost:8080/"
        },
        "id": "--cTgL75N_YL",
        "outputId": "7d99283f-57a9-43d6-c499-15d7be134de2"
      },
      "source": [
        "b = int(input())\n",
        "s = {i: i*i for i in range(1,11)}\n",
        "print(s)"
      ],
      "execution_count": 62,
      "outputs": [
        {
          "output_type": "stream",
          "text": [
            "5\n",
            "{1: 1, 2: 4, 3: 9, 4: 16, 5: 25, 6: 36, 7: 49, 8: 64, 9: 81, 10: 100}\n"
          ],
          "name": "stdout"
        }
      ]
    },
    {
      "cell_type": "code",
      "metadata": {
        "colab": {
          "base_uri": "https://localhost:8080/"
        },
        "id": "J2DkyizUOo6C",
        "outputId": "4b413094-b629-43f1-e180-9ccbcb53392a"
      },
      "source": [
        "try:\n",
        "    num = int(input(\"Enter a number: \"))\n",
        "except ValueError as err:\n",
        "    print(err)1"
      ],
      "execution_count": 72,
      "outputs": [
        {
          "output_type": "stream",
          "text": [
            "Enter a number: 13\n"
          ],
          "name": "stdout"
        }
      ]
    },
    {
      "cell_type": "code",
      "metadata": {
        "colab": {
          "base_uri": "https://localhost:8080/"
        },
        "id": "pSyjD14BR6WP",
        "outputId": "9a0cadb1-12ba-4a8f-9064-f7422760d872"
      },
      "source": [
        "dictio = dict()\n",
        "for item in range(num+1):\n",
        "    if item == 10:\n",
        "        continue\n",
        "    else:\n",
        "\t      dictio[item] = item * item\n",
        "print(dictio)"
      ],
      "execution_count": 73,
      "outputs": [
        {
          "output_type": "stream",
          "text": [
            "{0: 0, 1: 1, 2: 4, 3: 9, 4: 16, 5: 25, 6: 36, 7: 49, 8: 64, 9: 81, 11: 121, 12: 144, 13: 169}\n"
          ],
          "name": "stdout"
        }
      ]
    },
    {
      "cell_type": "code",
      "metadata": {
        "colab": {
          "base_uri": "https://localhost:8080/"
        },
        "id": "OIQJMGWxRjr-",
        "outputId": "11ef0e4e-c37a-4e7f-bba1-516fd64c9d76"
      },
      "source": [
        "num = int(input(\"Number: \"))\n",
        "print(dict(enumerate([20+i for i \n",
        "                      in range(1, num+1)])))"
      ],
      "execution_count": 95,
      "outputs": [
        {
          "output_type": "stream",
          "text": [
            "Number: 8\n",
            "{0: 21, 1: 22, 2: 23, 3: 24, 4: 25, 5: 26, 6: 27, 7: 28}\n"
          ],
          "name": "stdout"
        }
      ]
    },
    {
      "cell_type": "code",
      "metadata": {
        "id": "u-biDK2plFaV"
      },
      "source": [
        ""
      ],
      "execution_count": null,
      "outputs": []
    },
    {
      "cell_type": "code",
      "metadata": {
        "colab": {
          "base_uri": "https://localhost:8080/"
        },
        "id": "IdrAW7TynU8E",
        "outputId": "8623f836-d785-4868-ce8d-97b088b9fc03"
      },
      "source": [
        "values = input()\n",
        "l = values.split(\",\")\n",
        "t = tuple(l)\n",
        "print(l)\n",
        "print(t)"
      ],
      "execution_count": 4,
      "outputs": [
        {
          "output_type": "stream",
          "text": [
            "1,2,3,4,5,5,6,7,8,9,9\n",
            "['1', '2', '3', '4', '5', '5', '6', '7', '8', '9', '9']\n",
            "('1', '2', '3', '4', '5', '5', '6', '7', '8', '9', '9')\n"
          ],
          "name": "stdout"
        }
      ]
    },
    {
      "cell_type": "code",
      "metadata": {
        "colab": {
          "base_uri": "https://localhost:8080/"
        },
        "id": "HythuLzmS-Jt",
        "outputId": "4f419dcd-19f5-4df0-81dc-47ecf12e1b5c"
      },
      "source": [
        "lst = input().split(',')  # the input is being taken as string and as it is string it has a built in\n",
        "                          # method name split. ',' inside split function does split where it finds any ','\n",
        "                          # and save the input as list in lst variable\n",
        "\n",
        "tpl = tuple(lst)          # tuple method converts list to tuple\n",
        "\n",
        "print(lst)\n",
        "print(tpl)"
      ],
      "execution_count": 6,
      "outputs": [
        {
          "output_type": "stream",
          "text": [
            "1,2,3,4,5,5,6,22\n",
            "['1', '2', '3', '4', '5', '5', '6', '22']\n",
            "('1', '2', '3', '4', '5', '5', '6', '22')\n"
          ],
          "name": "stdout"
        }
      ]
    },
    {
      "cell_type": "code",
      "metadata": {
        "colab": {
          "base_uri": "https://localhost:8080/"
        },
        "id": "A7KJO0CXTKzl",
        "outputId": "5714e0e9-a5d7-4482-acc3-8a93b4761210"
      },
      "source": [
        "print(tuple(input(\"Enter a series of numbers separated by a comma :\").split(',')))\n"
      ],
      "execution_count": 8,
      "outputs": [
        {
          "output_type": "stream",
          "text": [
            "Enter a series of numbers separated by a comma :1,2,3,4,5,12,4,22\n",
            "('1', '2', '3', '4', '5', '12', '4', '22')\n"
          ],
          "name": "stdout"
        }
      ]
    },
    {
      "cell_type": "code",
      "metadata": {
        "colab": {
          "base_uri": "https://localhost:8080/"
        },
        "id": "fYLKthSXUzU3",
        "outputId": "5cf920f0-0085-4c1c-df5f-4c3c406e9bcd"
      },
      "source": [
        "print(tuple(input(\"Enter a series of number separated by a comma :\").split(',')))"
      ],
      "execution_count": 15,
      "outputs": [
        {
          "output_type": "stream",
          "text": [
            "Enter a series of number separated by a comma :kjh,8393,3,5,6\n",
            "('kjh', '8393', '3', '5', '6')\n"
          ],
          "name": "stdout"
        }
      ]
    },
    {
      "cell_type": "code",
      "metadata": {
        "colab": {
          "base_uri": "https://localhost:8080/"
        },
        "id": "c6bnUN0WVH8G",
        "outputId": "8cb7c034-43b1-4edb-b6b9-58b81642b9f8"
      },
      "source": [
        "class inoutoutputString(object):\n",
        "  def __init__(self):\n",
        "      self.S = \"asd\"\n",
        "\n",
        "  def get_striing(self):\n",
        "      self.S = input()\n",
        "\n",
        "  def print_string(self):\n",
        "      print(self.S.upper())       \n",
        "\n",
        "stringobject = inoutoutputString()\n",
        "stringobject.get_striing()\n",
        "stringobject.print_string()\n"
      ],
      "execution_count": 23,
      "outputs": [
        {
          "output_type": "stream",
          "text": [
            "jkhkjh\n",
            "JKHKJH\n"
          ],
          "name": "stdout"
        }
      ]
    },
    {
      "cell_type": "code",
      "metadata": {
        "colab": {
          "base_uri": "https://localhost:8080/"
        },
        "id": "GFj24MCDT9yG",
        "outputId": "cead0966-7676-4a63-a1ca-780956d5d438"
      },
      "source": [
        "class InputOutString(object):\n",
        "    def __init__(self):\n",
        "        self.s = \"klklj\"\n",
        "\n",
        "    def get_string(self):\n",
        "        self.s = input()\n",
        "\n",
        "    def print_string(self):\n",
        "        print(self.s.upper())\n",
        "\n",
        "str_obj = InputOutString()\n",
        "str_obj.get_string()\n",
        "str_obj.print_string()"
      ],
      "execution_count": 13,
      "outputs": [
        {
          "output_type": "stream",
          "text": [
            "sdfsDFDD\n",
            "SDFSDFDD\n"
          ],
          "name": "stdout"
        }
      ]
    },
    {
      "cell_type": "code",
      "metadata": {
        "colab": {
          "base_uri": "https://localhost:8080/"
        },
        "id": "lbRcyQXGX1YH",
        "outputId": "88316eac-8745-4d11-a313-16f2c9eeef60"
      },
      "source": [
        "class iostr():\n",
        "  def get_string(self):\n",
        "    self.string = input()\n",
        "\n",
        "  def print_string(self):\n",
        "    print(self.string.lower())\n",
        "\n",
        "a = iostr()\n",
        "a.get_string()\n",
        "a.print_string()      "
      ],
      "execution_count": 26,
      "outputs": [
        {
          "output_type": "stream",
          "text": [
            "ERER\n",
            "erer\n"
          ],
          "name": "stdout"
        }
      ]
    },
    {
      "cell_type": "code",
      "metadata": {
        "id": "7M9YqHCUXyBq"
      },
      "source": [
        "class IOstring():\n",
        "    def get_string(self):\n",
        "        self.s = input()\n",
        "\n",
        "    def print_string(self):\n",
        "        print(self.s.upper())\n",
        "\n",
        "xx = IOstring()\n",
        "xx.get_string()\n",
        "xx.print_string()"
      ],
      "execution_count": null,
      "outputs": []
    }
  ]
}