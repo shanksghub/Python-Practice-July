{
  "nbformat": 4,
  "nbformat_minor": 0,
  "metadata": {
    "colab": {
      "name": "Untitled76.ipynb",
      "provenance": [],
      "authorship_tag": "ABX9TyObQJZMlW45SEtkgqwhsouz",
      "include_colab_link": true
    },
    "kernelspec": {
      "name": "python3",
      "display_name": "Python 3"
    },
    "language_info": {
      "name": "python"
    }
  },
  "cells": [
    {
      "cell_type": "markdown",
      "metadata": {
        "id": "view-in-github",
        "colab_type": "text"
      },
      "source": [
        "<a href=\"https://colab.research.google.com/github/shanksghub/Python-Practice-July/blob/main/Python%20JOEL%20Grus%20crash%20course.ipynb\" target=\"_parent\"><img src=\"https://colab.research.google.com/assets/colab-badge.svg\" alt=\"Open In Colab\"/></a>"
      ]
    },
    {
      "cell_type": "code",
      "metadata": {
        "id": "gOmZ12L41_qO"
      },
      "source": [
        "\n",
        "\n",
        "Base case: Empty array then return -1\n",
        "\n",
        "Induction Hypothesis: If smaller list talks the correct 1st index of x\n",
        "\n",
        "Induction Step: Check if 1st place is x or not if found then return 0 else find x in rest of the list\n",
        "In [17]:\n",
        "\n",
        "def firstIndex(arr, si, x):\n",
        "    l = len(arr)\n",
        "    if l == 0:\n",
        "        return -1 \n",
        "    if arr[si] == x:\n",
        "        return si\n",
        "    return firstIndex(arr, si+1, x)\n",
        "\n",
        "In [18]:\n",
        "\n",
        "arr = [1,0,1,0,1,0,6,4,9,4]\n",
        "x = 4\n",
        "print(firstIndex(arr, 0, x))\n",
        "\n",
        "7\n",
        "\n",
        "In [26]:\n",
        "\n",
        "# Make a copy of an array\n",
        "\n",
        "def firstIndex(arr, x):\n",
        "    l = len(arr)\n",
        "    if l == 0:\n",
        "        return -1\n",
        "    \n",
        "    if arr[0] == x:\n",
        "        return 0\n",
        "    \n",
        "    smallerList = arr[1:]\n",
        "    smallerListOutput = firstIndex(smallerList, x)\n",
        "    if smallerListOutput == -1:\n",
        "        return -1\n",
        "    else:\n",
        "        return smallerListOutput + 1\n",
        "\n",
        "    \n",
        "# Main\n",
        "from sys import setrecursionlimit\n",
        "setrecursionlimit(11000)\n",
        "n=int(input())\n",
        "arr=list(int(i) for i in input().strip().split(' '))\n",
        "\n",
        "x=int(input())\n",
        "print(firstIndex(arr, x))\n",
        "\n",
        "5\n",
        "1 3 5 9 11\n",
        "7\n",
        "-1\n",
        "\n",
        "In [28]:\n",
        "\n",
        "def firstIndexBetter(a, x, si):\n",
        "    l = len(a)\n",
        "    if si == l:\n",
        "        return -1\n",
        "    \n",
        "    if a[si] == x:\n",
        "        return si\n",
        "    \n",
        "    return firstIndexBetter(a, x, si+1)\n",
        "\n",
        "In [31]:\n",
        "\n",
        "a = [1,2,3,4,5,6,7]\n",
        "x = 5\n",
        "firstIndexBetter(a, x, 0)\n",
        "\n",
        "Out[31]:\n",
        "\n",
        "4\n",
        "\n"
      ],
      "execution_count": null,
      "outputs": []
    },
    {
      "cell_type": "code",
      "metadata": {
        "id": "NhZcIjp1sdnR"
      },
      "source": [
        ""
      ],
      "execution_count": null,
      "outputs": []
    },
    {
      "cell_type": "code",
      "metadata": {
        "id": "vRnm1WGrsdqJ"
      },
      "source": [
        ""
      ],
      "execution_count": null,
      "outputs": []
    },
    {
      "cell_type": "markdown",
      "metadata": {
        "id": "GWYeTENIseJt"
      },
      "source": [
        "**JOEL GRUS PYTHON CRASH COURSE**"
      ]
    },
    {
      "cell_type": "code",
      "metadata": {
        "colab": {
          "base_uri": "https://localhost:8080/"
        },
        "id": "BUDMx3Z1sdtB",
        "outputId": "cd57f456-b6ff-4c63-a40c-d35cc9a91db8"
      },
      "source": [
        "for i in [1,2,3,4,5]:\n",
        "  print(i,\"II\")\n",
        "  for j in [1,2,3,4,5]:\n",
        "    print(j,\"J\")\n",
        "    print(i+j,\"i+j\")\n",
        "  print(i,\"I\")  \n",
        "print(\"done looping\")  \n"
      ],
      "execution_count": 3,
      "outputs": [
        {
          "output_type": "stream",
          "text": [
            "1 II\n",
            "1 J\n",
            "2 i+j\n",
            "2 J\n",
            "3 i+j\n",
            "3 J\n",
            "4 i+j\n",
            "4 J\n",
            "5 i+j\n",
            "5 J\n",
            "6 i+j\n",
            "1 I\n",
            "2 II\n",
            "1 J\n",
            "3 i+j\n",
            "2 J\n",
            "4 i+j\n",
            "3 J\n",
            "5 i+j\n",
            "4 J\n",
            "6 i+j\n",
            "5 J\n",
            "7 i+j\n",
            "2 I\n",
            "3 II\n",
            "1 J\n",
            "4 i+j\n",
            "2 J\n",
            "5 i+j\n",
            "3 J\n",
            "6 i+j\n",
            "4 J\n",
            "7 i+j\n",
            "5 J\n",
            "8 i+j\n",
            "3 I\n",
            "4 II\n",
            "1 J\n",
            "5 i+j\n",
            "2 J\n",
            "6 i+j\n",
            "3 J\n",
            "7 i+j\n",
            "4 J\n",
            "8 i+j\n",
            "5 J\n",
            "9 i+j\n",
            "4 I\n",
            "5 II\n",
            "1 J\n",
            "6 i+j\n",
            "2 J\n",
            "7 i+j\n",
            "3 J\n",
            "8 i+j\n",
            "4 J\n",
            "9 i+j\n",
            "5 J\n",
            "10 i+j\n",
            "5 I\n",
            "done looping\n"
          ],
          "name": "stdout"
        }
      ]
    },
    {
      "cell_type": "code",
      "metadata": {
        "colab": {
          "base_uri": "https://localhost:8080/"
        },
        "id": "nZiTXqHNvKom",
        "outputId": "d04981e0-fbd6-440b-b66e-c21d0240ea94"
      },
      "source": [
        "for i in [1,2,3]:\n",
        "  print(i,\"II\")\n",
        "  for j in [1,2,3]:\n",
        "    print(j,\"J\")\n",
        "    print(i+j,\"i+j\")\n",
        "  print(i,\"I\")  \n",
        "print(\"done looping\")  \n"
      ],
      "execution_count": 4,
      "outputs": [
        {
          "output_type": "stream",
          "text": [
            "1 II\n",
            "1 J\n",
            "2 i+j\n",
            "2 J\n",
            "3 i+j\n",
            "3 J\n",
            "4 i+j\n",
            "1 I\n",
            "2 II\n",
            "1 J\n",
            "3 i+j\n",
            "2 J\n",
            "4 i+j\n",
            "3 J\n",
            "5 i+j\n",
            "2 I\n",
            "3 II\n",
            "1 J\n",
            "4 i+j\n",
            "2 J\n",
            "5 i+j\n",
            "3 J\n",
            "6 i+j\n",
            "3 I\n",
            "done looping\n"
          ],
          "name": "stdout"
        }
      ]
    },
    {
      "cell_type": "code",
      "metadata": {
        "id": "CvJuIIHywDte"
      },
      "source": [
        "long_winded_computation = (1 + 2 + 3 + 4 + 5 + 6 + 7 + 8 + 9 + 10 + 11 + 12 )"
      ],
      "execution_count": 7,
      "outputs": []
    },
    {
      "cell_type": "code",
      "metadata": {
        "colab": {
          "base_uri": "https://localhost:8080/"
        },
        "id": "xdZY1GwWwXQ6",
        "outputId": "13e07dea-00df-46d1-c1b4-8a05e2bc9116"
      },
      "source": [
        "list_of_lists = [[1, 2, 3], [4, 5, 6], [7, 8, 9]]\n",
        "list_of_lists"
      ],
      "execution_count": 10,
      "outputs": [
        {
          "output_type": "execute_result",
          "data": {
            "text/plain": [
              "[[1, 2, 3], [4, 5, 6], [7, 8, 9]]"
            ]
          },
          "metadata": {
            "tags": []
          },
          "execution_count": 10
        }
      ]
    },
    {
      "cell_type": "code",
      "metadata": {
        "id": "t0sTno-xw0UA"
      },
      "source": [
        "easier_to_read_list_of_lists = [ [1, 2, 3],\\\n",
        "                                [4, 5, 6],\\\n",
        "                                [7, 8, 9] ]        \n",
        "\n",
        "\n",
        "                       \n",
        "\n",
        "two_plus_three = (2 + \\\n",
        "                  3)"
      ],
      "execution_count": 15,
      "outputs": []
    },
    {
      "cell_type": "code",
      "metadata": {
        "colab": {
          "base_uri": "https://localhost:8080/"
        },
        "id": "YcUzW8DMxKft",
        "outputId": "e273d0cd-af2d-46b2-b817-1e4966fea9ad"
      },
      "source": [
        "two_plus_three"
      ],
      "execution_count": 16,
      "outputs": [
        {
          "output_type": "execute_result",
          "data": {
            "text/plain": [
              "5"
            ]
          },
          "metadata": {
            "tags": []
          },
          "execution_count": 16
        }
      ]
    },
    {
      "cell_type": "code",
      "metadata": {
        "colab": {
          "base_uri": "https://localhost:8080/"
        },
        "id": "CJP76QTnxCWZ",
        "outputId": "cb325fc2-7e20-469f-9518-3439aeba64dc"
      },
      "source": [
        "easier_to_read_list_of_lists"
      ],
      "execution_count": 13,
      "outputs": [
        {
          "output_type": "execute_result",
          "data": {
            "text/plain": [
              "[[1, 2, 3], [4, 5, 6], [7, 8, 9]]"
            ]
          },
          "metadata": {
            "tags": []
          },
          "execution_count": 13
        }
      ]
    },
    {
      "cell_type": "code",
      "metadata": {
        "colab": {
          "base_uri": "https://localhost:8080/"
        },
        "id": "jJyDimNowzBR",
        "outputId": "3d8179d0-540a-473f-97c4-056f79089021"
      },
      "source": [
        "\n",
        "for i in [1, 2, 3, 4, 5]:\n",
        "# notice the blank line\n",
        "    print(i)"
      ],
      "execution_count": 19,
      "outputs": [
        {
          "output_type": "stream",
          "text": [
            "1\n",
            "2\n",
            "3\n",
            "4\n",
            "5\n"
          ],
          "name": "stdout"
        }
      ]
    },
    {
      "cell_type": "code",
      "metadata": {
        "id": "AfrSdHgTxnGk"
      },
      "source": [
        "import re\n",
        "my_regex = re.compile(\"[0-9]+\", re.I)"
      ],
      "execution_count": 20,
      "outputs": []
    },
    {
      "cell_type": "code",
      "metadata": {
        "colab": {
          "base_uri": "https://localhost:8080/"
        },
        "id": "l0E5XDd7yLFQ",
        "outputId": "3768a045-9828-4ddd-d1c4-a038c337fdbf"
      },
      "source": [
        "my_regex"
      ],
      "execution_count": 21,
      "outputs": [
        {
          "output_type": "execute_result",
          "data": {
            "text/plain": [
              "re.compile(r'[0-9]+', re.IGNORECASE|re.UNICODE)"
            ]
          },
          "metadata": {
            "tags": []
          },
          "execution_count": 21
        }
      ]
    },
    {
      "cell_type": "code",
      "metadata": {
        "id": "2k-85KGcywj0"
      },
      "source": [
        "import re as regex\n",
        "my_regex = regex.compile(\"[0-9]+\", regex.I)\n",
        "\n",
        "\n",
        "import matplotlib.pyplot as plt\n",
        "from collections import defaultdict, Counter\n",
        "lookup = defaultdict(int)\n",
        "my_counter = Counter()"
      ],
      "execution_count": 22,
      "outputs": []
    },
    {
      "cell_type": "code",
      "metadata": {
        "colab": {
          "base_uri": "https://localhost:8080/"
        },
        "id": "Y55dLlkdx9da",
        "outputId": "aff1f37d-940c-4063-994f-b93321a51006"
      },
      "source": [
        "matcah = 10\n",
        "from re import *\n",
        "print(matcah)"
      ],
      "execution_count": 25,
      "outputs": [
        {
          "output_type": "stream",
          "text": [
            "10\n"
          ],
          "name": "stdout"
        }
      ]
    },
    {
      "cell_type": "code",
      "metadata": {
        "id": "k0snX3SlzfD9"
      },
      "source": [
        "from __future__ import division"
      ],
      "execution_count": 32,
      "outputs": []
    },
    {
      "cell_type": "code",
      "metadata": {
        "colab": {
          "base_uri": "https://localhost:8080/"
        },
        "id": "atRDgCKOz5hQ",
        "outputId": "38604c69-b147-457a-88c8-f966af528bdd"
      },
      "source": [
        "13/2"
      ],
      "execution_count": 35,
      "outputs": [
        {
          "output_type": "execute_result",
          "data": {
            "text/plain": [
              "6.5"
            ]
          },
          "metadata": {
            "tags": []
          },
          "execution_count": 35
        }
      ]
    },
    {
      "cell_type": "code",
      "metadata": {
        "id": "5jNBZkZv0ETi"
      },
      "source": [
        "def double(x):\n",
        "    \"\"\" sdfsdf \"\"\"\n",
        "    return(x * 2)\n",
        "\n"
      ],
      "execution_count": 50,
      "outputs": []
    },
    {
      "cell_type": "code",
      "metadata": {
        "colab": {
          "base_uri": "https://localhost:8080/"
        },
        "id": "cEgR2OH-1Tjn",
        "outputId": "b3a1d09e-b356-43a3-a886-8db998eefd66"
      },
      "source": [
        "double(4)"
      ],
      "execution_count": 51,
      "outputs": [
        {
          "output_type": "execute_result",
          "data": {
            "text/plain": [
              "8"
            ]
          },
          "metadata": {
            "tags": []
          },
          "execution_count": 51
        }
      ]
    },
    {
      "cell_type": "code",
      "metadata": {
        "id": "ajNEAveh0mwU"
      },
      "source": [
        "\n",
        "# Python functions are first-class, which means that \n",
        "# we can assign them to variables and\n",
        "# pass them into functions just like any other arguments:\n",
        "\n",
        "def apply_to_one(f):\n",
        "    \"\"\" calls the function f with 1 as its argument \"\"\"\n",
        "    return f(1)\n",
        "my_double = double\n",
        "x = apply_to_one(my_double)"
      ],
      "execution_count": 55,
      "outputs": []
    },
    {
      "cell_type": "code",
      "metadata": {
        "colab": {
          "base_uri": "https://localhost:8080/"
        },
        "id": "l5tkPWZv3xO8",
        "outputId": "13d27862-3312-4215-a5b3-4ace64163dbd"
      },
      "source": [
        "x"
      ],
      "execution_count": 56,
      "outputs": [
        {
          "output_type": "execute_result",
          "data": {
            "text/plain": [
              "2"
            ]
          },
          "metadata": {
            "tags": []
          },
          "execution_count": 56
        }
      ]
    },
    {
      "cell_type": "code",
      "metadata": {
        "id": "EKTn4VWg5gfq"
      },
      "source": [
        "y = apply_to_one(lambda x: x + 4)\n"
      ],
      "execution_count": 57,
      "outputs": []
    },
    {
      "cell_type": "code",
      "metadata": {
        "colab": {
          "base_uri": "https://localhost:8080/"
        },
        "id": "tOcMQ0G76OnQ",
        "outputId": "e6310cca-70c5-47b6-b1f6-07e3386a24b2"
      },
      "source": [
        "y"
      ],
      "execution_count": 58,
      "outputs": [
        {
          "output_type": "execute_result",
          "data": {
            "text/plain": [
              "5"
            ]
          },
          "metadata": {
            "tags": []
          },
          "execution_count": 58
        }
      ]
    },
    {
      "cell_type": "code",
      "metadata": {
        "id": "e4p0eXNC0myk"
      },
      "source": [
        "\n",
        "another_double = lambda u: 2 * u # don't do this\n",
        "\n",
        "#def another_double(x): return 2 * x # do this instead\n",
        " "
      ],
      "execution_count": 65,
      "outputs": []
    },
    {
      "cell_type": "code",
      "metadata": {
        "colab": {
          "base_uri": "https://localhost:8080/"
        },
        "id": "pSz4R0u27KeH",
        "outputId": "d8953cc4-b539-4d97-a257-74228fb99b55"
      },
      "source": [
        "another_double"
      ],
      "execution_count": 68,
      "outputs": [
        {
          "output_type": "execute_result",
          "data": {
            "text/plain": [
              "<function __main__.<lambda>>"
            ]
          },
          "metadata": {
            "tags": []
          },
          "execution_count": 68
        }
      ]
    },
    {
      "cell_type": "code",
      "metadata": {
        "id": "QpGrcca_6z_I"
      },
      "source": [
        "\n",
        "Function parameters can also be given default arguments, \n",
        "which only need to be specified\n",
        "when you want a value other than the default:\n"
      ],
      "execution_count": null,
      "outputs": []
    },
    {
      "cell_type": "code",
      "metadata": {
        "colab": {
          "base_uri": "https://localhost:8080/"
        },
        "id": "AkZEuNJx7G8Z",
        "outputId": "a841ca5d-49a8-4ac8-abd3-9fa31486cf55"
      },
      "source": [
        "def my_print(message=\"my default message\"):\n",
        "    print(message)\n",
        "my_print(\"hello\")\n",
        "my_print()\n",
        "# prints 'hello'\n",
        "# prints 'my default message'"
      ],
      "execution_count": 69,
      "outputs": [
        {
          "output_type": "stream",
          "text": [
            "hello\n",
            "my default message\n"
          ],
          "name": "stdout"
        }
      ]
    },
    {
      "cell_type": "code",
      "metadata": {
        "colab": {
          "base_uri": "https://localhost:8080/"
        },
        "id": "WTGavrRt8DFE",
        "outputId": "aa1ce886-60e9-4b02-f78a-64c783428ded"
      },
      "source": [
        "def subtract(a=20, b=0):\n",
        "    return a - b\n",
        "subtract(10, 5) # returns 5\n",
        "subtract(0, 5) # returns -5\n",
        "subtract(b=5)\n",
        "# same as previous\n",
        " "
      ],
      "execution_count": 74,
      "outputs": [
        {
          "output_type": "execute_result",
          "data": {
            "text/plain": [
              "15"
            ]
          },
          "metadata": {
            "tags": []
          },
          "execution_count": 74
        }
      ]
    },
    {
      "cell_type": "code",
      "metadata": {
        "id": "U6IdLA038vKO"
      },
      "source": [
        ""
      ],
      "execution_count": null,
      "outputs": []
    },
    {
      "cell_type": "code",
      "metadata": {
        "colab": {
          "base_uri": "https://localhost:8080/"
        },
        "id": "Zxk2yvDsEETs",
        "outputId": "1561c30c-26b8-4641-9fb4-9526af6a79cf"
      },
      "source": [
        "\n",
        "single_quoted_string = 'data science'\n",
        "double_quoted_string = \"data science\"\n",
        "#Python uses backslashes to encode special characters. For example:\n",
        "tab_string = \"ss\"\n",
        "len(tab_string)\n",
        "# represents the tab character\n",
        "# is 1"
      ],
      "execution_count": 89,
      "outputs": [
        {
          "output_type": "execute_result",
          "data": {
            "text/plain": [
              "2"
            ]
          },
          "metadata": {
            "tags": []
          },
          "execution_count": 89
        }
      ]
    },
    {
      "cell_type": "code",
      "metadata": {
        "colab": {
          "base_uri": "https://localhost:8080/",
          "height": 35
        },
        "id": "vAE_nH_HETyN",
        "outputId": "e41c6e74-c75b-477e-d835-b7cb8af0a8e6"
      },
      "source": [
        "tab_string"
      ],
      "execution_count": 90,
      "outputs": [
        {
          "output_type": "execute_result",
          "data": {
            "application/vnd.google.colaboratory.intrinsic+json": {
              "type": "string"
            },
            "text/plain": [
              "'ss'"
            ]
          },
          "metadata": {
            "tags": []
          },
          "execution_count": 90
        }
      ]
    },
    {
      "cell_type": "code",
      "metadata": {
        "colab": {
          "base_uri": "https://localhost:8080/"
        },
        "id": "nCOZb0s6FOZI",
        "outputId": "a1583873-160a-4923-9bc2-d8538ea4b91f"
      },
      "source": [
        "not_tab_string = r\"\\t\"\n",
        "len(not_tab_string)\n",
        "# represents the characters '\\' and 't'\n",
        "# is 2"
      ],
      "execution_count": 91,
      "outputs": [
        {
          "output_type": "execute_result",
          "data": {
            "text/plain": [
              "2"
            ]
          },
          "metadata": {
            "tags": []
          },
          "execution_count": 91
        }
      ]
    },
    {
      "cell_type": "code",
      "metadata": {
        "id": "-pHZ68wW8vNB"
      },
      "source": [
        " "
      ],
      "execution_count": null,
      "outputs": []
    },
    {
      "cell_type": "code",
      "metadata": {
        "id": "ECgirAg6Np2V"
      },
      "source": [
        "\n",
        "integer_list = [1, 2, 3]\n",
        "heterogeneous_list = [\"string\", 0.1, True]\n",
        "list_of_lists = [ integer_list, heterogeneous_list, [] ]\n",
        "list_length = len(integer_list)\n",
        "list_sum = sum(integer_list)\n",
        "# equals 3\n",
        "# equals 6\n",
        "x = range(10)\n",
        "zero = x[0]\n",
        "one = x[1]\n",
        "nine = x[-1]\n",
        "eight = x[-2]\n",
        "#"
      ],
      "execution_count": 95,
      "outputs": []
    },
    {
      "cell_type": "code",
      "metadata": {
        "colab": {
          "base_uri": "https://localhost:8080/"
        },
        "id": "hA6pv0MuN6Nr",
        "outputId": "2257cfc3-019d-42eb-d3fb-b48a20bdf5e7"
      },
      "source": [
        "list_sum"
      ],
      "execution_count": 96,
      "outputs": [
        {
          "output_type": "execute_result",
          "data": {
            "text/plain": [
              "6"
            ]
          },
          "metadata": {
            "tags": []
          },
          "execution_count": 96
        }
      ]
    },
    {
      "cell_type": "code",
      "metadata": {
        "colab": {
          "base_uri": "https://localhost:8080/"
        },
        "id": "UrBgmbAVN7Jr",
        "outputId": "3e2a9121-b12b-4d60-a333-cd89eee8ee2e"
      },
      "source": [
        "zero"
      ],
      "execution_count": 97,
      "outputs": [
        {
          "output_type": "execute_result",
          "data": {
            "text/plain": [
              "0"
            ]
          },
          "metadata": {
            "tags": []
          },
          "execution_count": 97
        }
      ]
    },
    {
      "cell_type": "code",
      "metadata": {
        "colab": {
          "base_uri": "https://localhost:8080/"
        },
        "id": "3-kQP7lMN7_-",
        "outputId": "a8759cb6-0e0f-4119-e546-1163a4591e1a"
      },
      "source": [
        "x"
      ],
      "execution_count": 98,
      "outputs": [
        {
          "output_type": "execute_result",
          "data": {
            "text/plain": [
              "range(0, 10)"
            ]
          },
          "metadata": {
            "tags": []
          },
          "execution_count": 98
        }
      ]
    },
    {
      "cell_type": "code",
      "metadata": {
        "colab": {
          "base_uri": "https://localhost:8080/"
        },
        "id": "mvK6HY4ON86z",
        "outputId": "badd9f5f-78a6-45c3-f149-8397af3835ea"
      },
      "source": [
        "one"
      ],
      "execution_count": 99,
      "outputs": [
        {
          "output_type": "execute_result",
          "data": {
            "text/plain": [
              "1"
            ]
          },
          "metadata": {
            "tags": []
          },
          "execution_count": 99
        }
      ]
    },
    {
      "cell_type": "code",
      "metadata": {
        "colab": {
          "base_uri": "https://localhost:8080/"
        },
        "id": "HSHnFBN-N9em",
        "outputId": "a71399c5-dbc1-40de-a5b2-384534a11413"
      },
      "source": [
        "nine"
      ],
      "execution_count": 100,
      "outputs": [
        {
          "output_type": "execute_result",
          "data": {
            "text/plain": [
              "9"
            ]
          },
          "metadata": {
            "tags": []
          },
          "execution_count": 100
        }
      ]
    },
    {
      "cell_type": "code",
      "metadata": {
        "colab": {
          "base_uri": "https://localhost:8080/"
        },
        "id": "Y7xGgHdWN-Kq",
        "outputId": "76038246-4f21-4d42-b8c1-6617fd33362b"
      },
      "source": [
        "eight"
      ],
      "execution_count": 101,
      "outputs": [
        {
          "output_type": "execute_result",
          "data": {
            "text/plain": [
              "8"
            ]
          },
          "metadata": {
            "tags": []
          },
          "execution_count": 101
        }
      ]
    },
    {
      "cell_type": "code",
      "metadata": {
        "colab": {
          "base_uri": "https://localhost:8080/"
        },
        "id": "dp_8WoxVN5mi",
        "outputId": "55090b97-89fb-4194-df2b-ce33ce133e7a"
      },
      "source": [
        "list_length"
      ],
      "execution_count": 102,
      "outputs": [
        {
          "output_type": "execute_result",
          "data": {
            "text/plain": [
              "3"
            ]
          },
          "metadata": {
            "tags": []
          },
          "execution_count": 102
        }
      ]
    },
    {
      "cell_type": "code",
      "metadata": {
        "colab": {
          "base_uri": "https://localhost:8080/"
        },
        "id": "Pj5BWBAnN49M",
        "outputId": "0cb7a003-079e-4d04-9ce0-bd38c66af776"
      },
      "source": [
        "list_of_lists"
      ],
      "execution_count": 103,
      "outputs": [
        {
          "output_type": "execute_result",
          "data": {
            "text/plain": [
              "[[1, 2, 3], ['string', 0.1, True], []]"
            ]
          },
          "metadata": {
            "tags": []
          },
          "execution_count": 103
        }
      ]
    },
    {
      "cell_type": "code",
      "metadata": {
        "colab": {
          "base_uri": "https://localhost:8080/"
        },
        "id": "DEaLkr3RN4UN",
        "outputId": "e8396aa4-9263-4b83-a466-cc90f312c660"
      },
      "source": [
        "heterogeneous_list"
      ],
      "execution_count": 104,
      "outputs": [
        {
          "output_type": "execute_result",
          "data": {
            "text/plain": [
              "['string', 0.1, True]"
            ]
          },
          "metadata": {
            "tags": []
          },
          "execution_count": 104
        }
      ]
    },
    {
      "cell_type": "code",
      "metadata": {
        "colab": {
          "base_uri": "https://localhost:8080/"
        },
        "id": "840hp_4SN3sR",
        "outputId": "e60a7a33-947e-49c6-918c-594762ef1612"
      },
      "source": [
        "integer_list"
      ],
      "execution_count": 105,
      "outputs": [
        {
          "output_type": "execute_result",
          "data": {
            "text/plain": [
              "[1, 2, 3]"
            ]
          },
          "metadata": {
            "tags": []
          },
          "execution_count": 105
        }
      ]
    },
    {
      "cell_type": "code",
      "metadata": {
        "id": "_FUyCzJNN14B"
      },
      "source": [
        ""
      ],
      "execution_count": 105,
      "outputs": []
    },
    {
      "cell_type": "code",
      "metadata": {
        "id": "iWhYH-bgN1Kw"
      },
      "source": [
        ""
      ],
      "execution_count": 106,
      "outputs": []
    },
    {
      "cell_type": "code",
      "metadata": {
        "id": "k8OkMTp58vQa"
      },
      "source": [
        "\n",
        "is the list [0, 1, ..., 9]\n",
        "equals 0, lists are 0-indexed\n",
        "equals 1\n",
        "equals 9, 'Pythonic' for last element\n",
        "equals 8, 'Pythonic' for next-to-last element\n",
        "now x is [-1, 1, 2, 3, ..., 9]\n",
        "You can also use square brackets to “slice” lists:\n",
        "first_three\n",
        "= x[:3]\n",
        "three_to_end = x[3:]\n",
        "one_to_four = x[1:5]\n",
        "last_three = x[-3:]\n",
        "without_first_and_last = x[1:-1]\n",
        "copy_of_x = x[:]\n",
        "#\n",
        "Python has an in operator to check for list membership:\n",
        "1 in [1, 2, 3]\n",
        "0 in [1, 2, 3]\n",
        "# True\n",
        "# False\n",
        "This check involves examining the elements of the list one at a time, which means that\n",
        "you probably shouldn’t use it unless you know your list is pretty small (or unless you\n",
        "don’t care how long the check takes).\n",
        "It is easy to concatenate lists together:\n",
        "x = [1, 2, 3]\n",
        "x.extend([4, 5, 6])\n",
        "# x is now [1,2,3,4,5,6]\n",
        "If you don’t want to modify x you can use list addition:\n",
        "x = [1, 2, 3]\n",
        "y = x + [4, 5, 6]\n",
        "# y is [1, 2, 3, 4, 5, 6]; x is unchanged\n",
        "More frequently we will append to lists one item at a time:\n",
        "x = [1, 2, 3]\n",
        "x.append(0)\n",
        "y = x[-1]\n",
        "z = len(x)\n",
        "# x is now [1, 2, 3, 0]\n",
        "# equals 0\n",
        "# equals 4It is often convenient to unpack lists if you know how many elements they contain:\n",
        "x, y = [1, 2]\n",
        "# now x is 1, y is 2\n",
        "although you will get a ValueError if you don’t have the same numbers of elements on\n",
        "both sides.\n",
        "It’s common to use an underscore for a value you’re going to throw away:\n",
        "_, y = [1, 2]\n",
        "# now y == 2, didn't care about the first element"
      ],
      "execution_count": 106,
      "outputs": []
    },
    {
      "cell_type": "code",
      "metadata": {
        "colab": {
          "base_uri": "https://localhost:8080/"
        },
        "id": "mBqSB0TsQT7E",
        "outputId": "1c3b7f2d-2e20-472f-f1a2-e3288b0cb5dd"
      },
      "source": [
        "0 in [1, 2, 3]\n"
      ],
      "execution_count": 107,
      "outputs": [
        {
          "output_type": "execute_result",
          "data": {
            "text/plain": [
              "False"
            ]
          },
          "metadata": {
            "tags": []
          },
          "execution_count": 107
        }
      ]
    }
  ]
}