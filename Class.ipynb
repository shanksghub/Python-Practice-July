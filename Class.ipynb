{
  "nbformat": 4,
  "nbformat_minor": 0,
  "metadata": {
    "colab": {
      "name": "Untitled69.ipynb",
      "provenance": [],
      "authorship_tag": "ABX9TyNwXK+emRG1sOvuuT4C4nde",
      "include_colab_link": true
    },
    "kernelspec": {
      "name": "python3",
      "display_name": "Python 3"
    },
    "language_info": {
      "name": "python"
    }
  },
  "cells": [
    {
      "cell_type": "markdown",
      "metadata": {
        "id": "view-in-github",
        "colab_type": "text"
      },
      "source": [
        "<a href=\"https://colab.research.google.com/github/shanksghub/Python-Practice-July/blob/main/Class.ipynb\" target=\"_parent\"><img src=\"https://colab.research.google.com/assets/colab-badge.svg\" alt=\"Open In Colab\"/></a>"
      ]
    },
    {
      "cell_type": "code",
      "metadata": {
        "id": "WKO9pMjPpEBw"
      },
      "source": [
        "# Solutions to review exercises\n",
        "\n",
        "\n",
        "# Exercise 1\n",
        "class Dog:\n",
        "\n",
        "    species = \"Canis familiaris\"\n",
        "\n",
        "    def __init__(self, name, age, coat_color):\n",
        "        self.name = name\n",
        "        self.age = age\n",
        "        self.coat_color = coat_color\n",
        "\n",
        "    def __str__(self):\n",
        "        return f\"{self.name} is {self.age} years old\"\n",
        "\n",
        "    def speak(self, sound):\n",
        "        return f\"{self.name} says {sound}\"\n",
        "\n",
        "\n",
        "# The value for `age` can vary in your solution\n",
        "philo = Dog(\"Philo\", 5, \"brown\")\n",
        "print(f\"{philo.name}'s coat is {philo.coat_color}.\")\n",
        "\n"
      ],
      "execution_count": null,
      "outputs": []
    },
    {
      "cell_type": "code",
      "metadata": {
        "id": "JPxHnoouqK5h"
      },
      "source": [
        "class Dog:\n",
        "  species = \"DOGS\"\n",
        "  def __init__(self, name, age, coatcolor):\n",
        "    self.name = name\n",
        "    self.age = age\n",
        "    sefl.coatcolor = coatcolor"
      ],
      "execution_count": null,
      "outputs": []
    },
    {
      "cell_type": "code",
      "metadata": {
        "id": "hK-McQpkqBOW"
      },
      "source": [
        "\n",
        "# Exercise 2\n",
        "class Car:\n",
        "    def __init__(self, color, mileage):\n",
        "        self.color = color\n",
        "        self.mileage = mileage\n",
        "\n",
        "\n",
        "blue_car = Car(\"blue\", 20000)\n",
        "red_car = Car(\"red\", 30000)\n",
        "\n",
        "for car in (blue_car, red_car):\n",
        "    print(f\"The {car.color} car has {car.mileage:,} miles\")\n"
      ],
      "execution_count": null,
      "outputs": []
    },
    {
      "cell_type": "code",
      "metadata": {
        "id": "vCukCBd8qCPX"
      },
      "source": [
        ""
      ],
      "execution_count": null,
      "outputs": []
    },
    {
      "cell_type": "code",
      "metadata": {
        "id": "o1RaMcBJp_zC"
      },
      "source": [
        ""
      ],
      "execution_count": null,
      "outputs": []
    },
    {
      "cell_type": "code",
      "metadata": {
        "id": "hbAe6g1yp_1b"
      },
      "source": [
        "\n",
        "\n",
        "# Exercise 3\n",
        "class Car:\n",
        "    def __init__(self, color, mileage):\n",
        "        self.color = color\n",
        "        self.mileage = mileage\n",
        "\n",
        "    def drive(self, miles):\n",
        "        self.mileage = self.mileage + miles\n",
        "\n",
        "\n",
        "blue_car = Car(\"blue\", 0)\n",
        "blue_car.drive(100)\n",
        "print(blue_car.mileage)"
      ],
      "execution_count": null,
      "outputs": []
    }
  ]
}